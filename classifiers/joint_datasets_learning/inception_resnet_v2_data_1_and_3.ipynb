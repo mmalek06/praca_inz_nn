{
 "cells": [
  {
   "cell_type": "code",
   "execution_count": 1,
   "outputs": [],
   "source": [
    "import os\n",
    "import tensorflow as tf\n",
    "\n",
    "from tensorflow import keras\n",
    "from tensorflow.keras.applications.inception_resnet_v2 import InceptionResNetV2\n",
    "\n",
    "from functions.augmentation import get_augmentation_layers\n",
    "from functions.model_running import run_model\n",
    "from functions.plotting import plot_single_output_history\n",
    "WIDTH = 150\n",
    "HEIGHT = 150"
   ],
   "metadata": {
    "collapsed": false
   }
  },
  {
   "cell_type": "code",
   "execution_count": 2,
   "outputs": [
    {
     "name": "stdout",
     "output_type": "stream",
     "text": [
      "Found 4295 files belonging to 9 classes.\n",
      "Found 1069 files belonging to 9 classes.\n"
     ]
    }
   ],
   "source": [
    "base_data1_dir = os.path.join(\n",
    "    '..',\n",
    "    '..',\n",
    "    '..',\n",
    "    'data_1_and_3_no_nv')\n",
    "train_data1_dir = os.path.join(base_data1_dir, 'training')\n",
    "valid_data1_dir = os.path.join(base_data1_dir, 'validation')\n",
    "\n",
    "train1_ds = keras.utils.image_dataset_from_directory(\n",
    "    directory=train_data1_dir,\n",
    "    labels='inferred',\n",
    "    label_mode='categorical',\n",
    "    batch_size=32,\n",
    "    image_size=(HEIGHT, WIDTH))\n",
    "valid1_ds = keras.utils.image_dataset_from_directory(\n",
    "    directory=valid_data1_dir,\n",
    "    labels='inferred',\n",
    "    label_mode='categorical',\n",
    "    batch_size=32,\n",
    "    image_size=(HEIGHT, WIDTH))"
   ],
   "metadata": {
    "collapsed": false
   }
  },
  {
   "cell_type": "code",
   "execution_count": 3,
   "outputs": [
    {
     "name": "stdout",
     "output_type": "stream",
     "text": [
      "WARNING:tensorflow:Using a while_loop for converting RngReadAndSkip cause there is no registered converter for this op.\n",
      "WARNING:tensorflow:Using a while_loop for converting Bitcast cause there is no registered converter for this op.\n",
      "WARNING:tensorflow:Using a while_loop for converting Bitcast cause there is no registered converter for this op.\n",
      "WARNING:tensorflow:Using a while_loop for converting StatelessRandomUniformV2 cause there is no registered converter for this op.\n",
      "WARNING:tensorflow:Using a while_loop for converting ImageProjectiveTransformV3 cause there is no registered converter for this op.\n",
      "WARNING:tensorflow:Using a while_loop for converting RngReadAndSkip cause there is no registered converter for this op.\n",
      "WARNING:tensorflow:Using a while_loop for converting Bitcast cause there is no registered converter for this op.\n",
      "WARNING:tensorflow:Using a while_loop for converting Bitcast cause there is no registered converter for this op.\n",
      "WARNING:tensorflow:Using a while_loop for converting StatelessRandomUniformV2 cause there is no registered converter for this op.\n",
      "WARNING:tensorflow:Using a while_loop for converting RngReadAndSkip cause there is no registered converter for this op.\n",
      "WARNING:tensorflow:Using a while_loop for converting Bitcast cause there is no registered converter for this op.\n",
      "WARNING:tensorflow:Using a while_loop for converting Bitcast cause there is no registered converter for this op.\n",
      "WARNING:tensorflow:Using a while_loop for converting StatelessRandomUniformFullIntV2 cause there is no registered converter for this op.\n",
      "WARNING:tensorflow:Using a while_loop for converting StatelessRandomGetKeyCounter cause there is no registered converter for this op.\n",
      "WARNING:tensorflow:Using a while_loop for converting StatelessRandomUniformV2 cause there is no registered converter for this op.\n",
      "WARNING:tensorflow:Using a while_loop for converting AdjustContrastv2 cause Input \"contrast_factor\" of op 'AdjustContrastv2' expected to be loop invariant.\n",
      "WARNING:tensorflow:Using a while_loop for converting RngReadAndSkip cause there is no registered converter for this op.\n",
      "WARNING:tensorflow:Using a while_loop for converting Bitcast cause there is no registered converter for this op.\n",
      "WARNING:tensorflow:Using a while_loop for converting Bitcast cause there is no registered converter for this op.\n",
      "WARNING:tensorflow:Using a while_loop for converting StatelessRandomUniformV2 cause there is no registered converter for this op.\n",
      "WARNING:tensorflow:Using a while_loop for converting RngReadAndSkip cause there is no registered converter for this op.\n",
      "WARNING:tensorflow:Using a while_loop for converting Bitcast cause there is no registered converter for this op.\n",
      "WARNING:tensorflow:Using a while_loop for converting Bitcast cause there is no registered converter for this op.\n",
      "WARNING:tensorflow:Using a while_loop for converting StatelessRandomUniformV2 cause there is no registered converter for this op.\n",
      "WARNING:tensorflow:Using a while_loop for converting ImageProjectiveTransformV3 cause there is no registered converter for this op.\n",
      "WARNING:tensorflow:Using a while_loop for converting RngReadAndSkip cause there is no registered converter for this op.\n",
      "WARNING:tensorflow:Using a while_loop for converting Bitcast cause there is no registered converter for this op.\n",
      "WARNING:tensorflow:Using a while_loop for converting Bitcast cause there is no registered converter for this op.\n",
      "WARNING:tensorflow:Using a while_loop for converting StatelessRandomUniformV2 cause there is no registered converter for this op.\n",
      "WARNING:tensorflow:Using a while_loop for converting ImageProjectiveTransformV3 cause there is no registered converter for this op.\n",
      "WARNING:tensorflow:Using a while_loop for converting RngReadAndSkip cause there is no registered converter for this op.\n",
      "WARNING:tensorflow:Using a while_loop for converting Bitcast cause there is no registered converter for this op.\n",
      "WARNING:tensorflow:Using a while_loop for converting Bitcast cause there is no registered converter for this op.\n",
      "WARNING:tensorflow:Using a while_loop for converting StatelessRandomUniformV2 cause there is no registered converter for this op.\n",
      "WARNING:tensorflow:Using a while_loop for converting RngReadAndSkip cause there is no registered converter for this op.\n",
      "WARNING:tensorflow:Using a while_loop for converting Bitcast cause there is no registered converter for this op.\n",
      "WARNING:tensorflow:Using a while_loop for converting Bitcast cause there is no registered converter for this op.\n",
      "WARNING:tensorflow:Using a while_loop for converting StatelessRandomUniformFullIntV2 cause there is no registered converter for this op.\n",
      "WARNING:tensorflow:Using a while_loop for converting StatelessRandomGetKeyCounter cause there is no registered converter for this op.\n",
      "WARNING:tensorflow:Using a while_loop for converting StatelessRandomUniformV2 cause there is no registered converter for this op.\n",
      "WARNING:tensorflow:Using a while_loop for converting AdjustContrastv2 cause Input \"contrast_factor\" of op 'AdjustContrastv2' expected to be loop invariant.\n",
      "WARNING:tensorflow:Using a while_loop for converting RngReadAndSkip cause there is no registered converter for this op.\n",
      "WARNING:tensorflow:Using a while_loop for converting Bitcast cause there is no registered converter for this op.\n",
      "WARNING:tensorflow:Using a while_loop for converting Bitcast cause there is no registered converter for this op.\n",
      "WARNING:tensorflow:Using a while_loop for converting StatelessRandomUniformV2 cause there is no registered converter for this op.\n",
      "WARNING:tensorflow:Using a while_loop for converting RngReadAndSkip cause there is no registered converter for this op.\n",
      "WARNING:tensorflow:Using a while_loop for converting Bitcast cause there is no registered converter for this op.\n",
      "WARNING:tensorflow:Using a while_loop for converting Bitcast cause there is no registered converter for this op.\n",
      "WARNING:tensorflow:Using a while_loop for converting StatelessRandomUniformV2 cause there is no registered converter for this op.\n",
      "WARNING:tensorflow:Using a while_loop for converting ImageProjectiveTransformV3 cause there is no registered converter for this op.\n"
     ]
    }
   ],
   "source": [
    "data_augmentation = get_augmentation_layers()\n",
    "train1_ds = train1_ds\\\n",
    "    .cache()\\\n",
    "    .shuffle(1000)\\\n",
    "    .map(lambda x, y: (data_augmentation(x), y))\\\n",
    "    .prefetch(buffer_size=tf.data.AUTOTUNE)\n",
    "valid1_ds = valid1_ds\\\n",
    "    .cache()\\\n",
    "    .prefetch(buffer_size=tf.data.AUTOTUNE)"
   ],
   "metadata": {
    "collapsed": false
   }
  },
  {
   "cell_type": "code",
   "execution_count": 4,
   "outputs": [],
   "source": [
    "num_classes = 9"
   ],
   "metadata": {
    "collapsed": false
   }
  },
  {
   "cell_type": "code",
   "execution_count": 5,
   "outputs": [],
   "source": [
    "def get_basic_model() -> keras.Model:\n",
    "    base_model = InceptionResNetV2(\n",
    "        include_top=False,\n",
    "        weights='imagenet',\n",
    "        input_shape=(HEIGHT, WIDTH, 3))\n",
    "    flat = keras.layers.Flatten()(base_model.output)\n",
    "    locator_module = keras.layers.Dense(2048, activation='relu')(flat)\n",
    "    locator_module = keras.layers.Dropout(.3)(locator_module)\n",
    "    locator_module = keras.layers.Dense(num_classes, activation='softmax')(locator_module)\n",
    "    model = keras.Model(base_model.input, outputs=locator_module)\n",
    "\n",
    "    model.compile(\n",
    "        optimizer='adam',\n",
    "        loss='categorical_crossentropy',\n",
    "        metrics=['accuracy'])\n",
    "\n",
    "    return model"
   ],
   "metadata": {
    "collapsed": false
   }
  },
  {
   "cell_type": "code",
   "execution_count": 6,
   "outputs": [
    {
     "name": "stdout",
     "output_type": "stream",
     "text": [
      "Epoch 1/100\n",
      "135/135 [==============================] - ETA: 0s - loss: 2.4815 - accuracy: 0.4075"
     ]
    },
    {
     "name": "stderr",
     "output_type": "stream",
     "text": [
      "WARNING:absl:Found untraced functions such as _jit_compiled_convolution_op, _jit_compiled_convolution_op, _jit_compiled_convolution_op, _jit_compiled_convolution_op, _jit_compiled_convolution_op while saving (showing 5 of 244). These functions will not be directly callable after loading.\n"
     ]
    },
    {
     "name": "stdout",
     "output_type": "stream",
     "text": [
      "INFO:tensorflow:Assets written to: ..\\..\\models\\inception_resnet_data_1_and_3_no_nv_v2_0_1\\assets\n"
     ]
    },
    {
     "name": "stderr",
     "output_type": "stream",
     "text": [
      "INFO:tensorflow:Assets written to: ..\\..\\models\\inception_resnet_data_1_and_3_no_nv_v2_0_1\\assets\n"
     ]
    },
    {
     "name": "stdout",
     "output_type": "stream",
     "text": [
      "135/135 [==============================] - 119s 730ms/step - loss: 2.4815 - accuracy: 0.4075 - val_loss: 1.5392 - val_accuracy: 0.3658 - lr: 0.0010\n",
      "Epoch 2/100\n",
      "135/135 [==============================] - ETA: 0s - loss: 1.4434 - accuracy: 0.4913"
     ]
    },
    {
     "name": "stderr",
     "output_type": "stream",
     "text": [
      "WARNING:absl:Found untraced functions such as _jit_compiled_convolution_op, _jit_compiled_convolution_op, _jit_compiled_convolution_op, _jit_compiled_convolution_op, _jit_compiled_convolution_op while saving (showing 5 of 244). These functions will not be directly callable after loading.\n"
     ]
    },
    {
     "name": "stdout",
     "output_type": "stream",
     "text": [
      "INFO:tensorflow:Assets written to: ..\\..\\models\\inception_resnet_data_1_and_3_no_nv_v2_0_2\\assets\n"
     ]
    },
    {
     "name": "stderr",
     "output_type": "stream",
     "text": [
      "INFO:tensorflow:Assets written to: ..\\..\\models\\inception_resnet_data_1_and_3_no_nv_v2_0_2\\assets\n"
     ]
    },
    {
     "name": "stdout",
     "output_type": "stream",
     "text": [
      "135/135 [==============================] - 94s 694ms/step - loss: 1.4434 - accuracy: 0.4913 - val_loss: 1.4357 - val_accuracy: 0.5173 - lr: 0.0010\n",
      "Epoch 3/100\n",
      "135/135 [==============================] - 33s 238ms/step - loss: 1.2099 - accuracy: 0.5455 - val_loss: 2.3443 - val_accuracy: 0.4659 - lr: 0.0010\n",
      "Epoch 4/100\n",
      "135/135 [==============================] - ETA: 0s - loss: 1.0481 - accuracy: 0.5921"
     ]
    },
    {
     "name": "stderr",
     "output_type": "stream",
     "text": [
      "WARNING:absl:Found untraced functions such as _jit_compiled_convolution_op, _jit_compiled_convolution_op, _jit_compiled_convolution_op, _jit_compiled_convolution_op, _jit_compiled_convolution_op while saving (showing 5 of 244). These functions will not be directly callable after loading.\n"
     ]
    },
    {
     "name": "stdout",
     "output_type": "stream",
     "text": [
      "INFO:tensorflow:Assets written to: ..\\..\\models\\inception_resnet_data_1_and_3_no_nv_v2_0_4\\assets\n"
     ]
    },
    {
     "name": "stderr",
     "output_type": "stream",
     "text": [
      "INFO:tensorflow:Assets written to: ..\\..\\models\\inception_resnet_data_1_and_3_no_nv_v2_0_4\\assets\n"
     ]
    },
    {
     "name": "stdout",
     "output_type": "stream",
     "text": [
      "135/135 [==============================] - 95s 710ms/step - loss: 1.0481 - accuracy: 0.5921 - val_loss: 1.1313 - val_accuracy: 0.5716 - lr: 0.0010\n",
      "Epoch 5/100\n",
      "135/135 [==============================] - ETA: 0s - loss: 1.0096 - accuracy: 0.6000"
     ]
    },
    {
     "name": "stderr",
     "output_type": "stream",
     "text": [
      "WARNING:absl:Found untraced functions such as _jit_compiled_convolution_op, _jit_compiled_convolution_op, _jit_compiled_convolution_op, _jit_compiled_convolution_op, _jit_compiled_convolution_op while saving (showing 5 of 244). These functions will not be directly callable after loading.\n"
     ]
    },
    {
     "name": "stdout",
     "output_type": "stream",
     "text": [
      "INFO:tensorflow:Assets written to: ..\\..\\models\\inception_resnet_data_1_and_3_no_nv_v2_0_5\\assets\n"
     ]
    },
    {
     "name": "stderr",
     "output_type": "stream",
     "text": [
      "INFO:tensorflow:Assets written to: ..\\..\\models\\inception_resnet_data_1_and_3_no_nv_v2_0_5\\assets\n"
     ]
    },
    {
     "name": "stdout",
     "output_type": "stream",
     "text": [
      "135/135 [==============================] - 96s 708ms/step - loss: 1.0096 - accuracy: 0.6000 - val_loss: 1.0377 - val_accuracy: 0.5931 - lr: 0.0010\n",
      "Epoch 6/100\n",
      "135/135 [==============================] - 34s 250ms/step - loss: 0.9308 - accuracy: 0.6403 - val_loss: 1.2460 - val_accuracy: 0.5575 - lr: 0.0010\n",
      "Epoch 7/100\n",
      "135/135 [==============================] - 34s 252ms/step - loss: 0.9103 - accuracy: 0.6477 - val_loss: 1.3981 - val_accuracy: 0.5875 - lr: 0.0010\n",
      "Epoch 8/100\n",
      "135/135 [==============================] - ETA: 0s - loss: 0.8885 - accuracy: 0.6666"
     ]
    },
    {
     "name": "stderr",
     "output_type": "stream",
     "text": [
      "WARNING:absl:Found untraced functions such as _jit_compiled_convolution_op, _jit_compiled_convolution_op, _jit_compiled_convolution_op, _jit_compiled_convolution_op, _jit_compiled_convolution_op while saving (showing 5 of 244). These functions will not be directly callable after loading.\n"
     ]
    },
    {
     "name": "stdout",
     "output_type": "stream",
     "text": [
      "INFO:tensorflow:Assets written to: ..\\..\\models\\inception_resnet_data_1_and_3_no_nv_v2_0_8\\assets\n"
     ]
    },
    {
     "name": "stderr",
     "output_type": "stream",
     "text": [
      "INFO:tensorflow:Assets written to: ..\\..\\models\\inception_resnet_data_1_and_3_no_nv_v2_0_8\\assets\n"
     ]
    },
    {
     "name": "stdout",
     "output_type": "stream",
     "text": [
      "135/135 [==============================] - 97s 722ms/step - loss: 0.8885 - accuracy: 0.6666 - val_loss: 0.9578 - val_accuracy: 0.6408 - lr: 0.0010\n",
      "Epoch 9/100\n",
      "135/135 [==============================] - ETA: 0s - loss: 0.8410 - accuracy: 0.6789"
     ]
    },
    {
     "name": "stderr",
     "output_type": "stream",
     "text": [
      "WARNING:absl:Found untraced functions such as _jit_compiled_convolution_op, _jit_compiled_convolution_op, _jit_compiled_convolution_op, _jit_compiled_convolution_op, _jit_compiled_convolution_op while saving (showing 5 of 244). These functions will not be directly callable after loading.\n"
     ]
    },
    {
     "name": "stdout",
     "output_type": "stream",
     "text": [
      "INFO:tensorflow:Assets written to: ..\\..\\models\\inception_resnet_data_1_and_3_no_nv_v2_0_9\\assets\n"
     ]
    },
    {
     "name": "stderr",
     "output_type": "stream",
     "text": [
      "INFO:tensorflow:Assets written to: ..\\..\\models\\inception_resnet_data_1_and_3_no_nv_v2_0_9\\assets\n"
     ]
    },
    {
     "name": "stdout",
     "output_type": "stream",
     "text": [
      "135/135 [==============================] - 97s 718ms/step - loss: 0.8410 - accuracy: 0.6789 - val_loss: 0.9867 - val_accuracy: 0.6436 - lr: 0.0010\n",
      "Epoch 10/100\n",
      "135/135 [==============================] - 34s 248ms/step - loss: 0.8101 - accuracy: 0.6943 - val_loss: 0.9626 - val_accuracy: 0.6436 - lr: 0.0010\n",
      "Epoch 11/100\n",
      "135/135 [==============================] - 34s 249ms/step - loss: 0.8094 - accuracy: 0.6950 - val_loss: 1.0109 - val_accuracy: 0.6118 - lr: 0.0010\n",
      "Epoch 12/100\n",
      "135/135 [==============================] - 34s 250ms/step - loss: 0.7858 - accuracy: 0.6983 - val_loss: 4733.9468 - val_accuracy: 0.3471 - lr: 0.0010\n",
      "Epoch 13/100\n",
      "135/135 [==============================] - 34s 252ms/step - loss: 0.9062 - accuracy: 0.6412 - val_loss: 222.6172 - val_accuracy: 0.2432 - lr: 0.0010\n",
      "Epoch 14/100\n",
      "135/135 [==============================] - ETA: 0s - loss: 0.9620 - accuracy: 0.6366\n",
      "Epoch 14: ReduceLROnPlateau reducing learning rate to 0.0009500000451225787.\n",
      "135/135 [==============================] - 34s 254ms/step - loss: 0.9620 - accuracy: 0.6366 - val_loss: 2.2813 - val_accuracy: 0.3620 - lr: 0.0010\n",
      "Epoch 15/100\n",
      "135/135 [==============================] - 34s 255ms/step - loss: 0.9906 - accuracy: 0.6261 - val_loss: 4.0459 - val_accuracy: 0.4864 - lr: 9.5000e-04\n",
      "Epoch 16/100\n",
      "135/135 [==============================] - ETA: 0s - loss: 0.8504 - accuracy: 0.6692"
     ]
    },
    {
     "name": "stderr",
     "output_type": "stream",
     "text": [
      "WARNING:absl:Found untraced functions such as _jit_compiled_convolution_op, _jit_compiled_convolution_op, _jit_compiled_convolution_op, _jit_compiled_convolution_op, _jit_compiled_convolution_op while saving (showing 5 of 244). These functions will not be directly callable after loading.\n"
     ]
    },
    {
     "name": "stdout",
     "output_type": "stream",
     "text": [
      "INFO:tensorflow:Assets written to: ..\\..\\models\\inception_resnet_data_1_and_3_no_nv_v2_0_16\\assets\n"
     ]
    },
    {
     "name": "stderr",
     "output_type": "stream",
     "text": [
      "INFO:tensorflow:Assets written to: ..\\..\\models\\inception_resnet_data_1_and_3_no_nv_v2_0_16\\assets\n"
     ]
    },
    {
     "name": "stdout",
     "output_type": "stream",
     "text": [
      "135/135 [==============================] - 100s 743ms/step - loss: 0.8504 - accuracy: 0.6692 - val_loss: 0.8738 - val_accuracy: 0.6642 - lr: 9.5000e-04\n",
      "Epoch 17/100\n",
      "135/135 [==============================] - 35s 257ms/step - loss: 0.8097 - accuracy: 0.6875 - val_loss: 1.2489 - val_accuracy: 0.4911 - lr: 9.5000e-04\n",
      "Epoch 18/100\n",
      "135/135 [==============================] - ETA: 0s - loss: 0.7664 - accuracy: 0.7069"
     ]
    },
    {
     "name": "stderr",
     "output_type": "stream",
     "text": [
      "WARNING:absl:Found untraced functions such as _jit_compiled_convolution_op, _jit_compiled_convolution_op, _jit_compiled_convolution_op, _jit_compiled_convolution_op, _jit_compiled_convolution_op while saving (showing 5 of 244). These functions will not be directly callable after loading.\n"
     ]
    },
    {
     "name": "stdout",
     "output_type": "stream",
     "text": [
      "INFO:tensorflow:Assets written to: ..\\..\\models\\inception_resnet_data_1_and_3_no_nv_v2_0_18\\assets\n"
     ]
    },
    {
     "name": "stderr",
     "output_type": "stream",
     "text": [
      "INFO:tensorflow:Assets written to: ..\\..\\models\\inception_resnet_data_1_and_3_no_nv_v2_0_18\\assets\n"
     ]
    },
    {
     "name": "stdout",
     "output_type": "stream",
     "text": [
      "135/135 [==============================] - 98s 726ms/step - loss: 0.7664 - accuracy: 0.7069 - val_loss: 0.8194 - val_accuracy: 0.6857 - lr: 9.5000e-04\n",
      "Epoch 19/100\n",
      "135/135 [==============================] - 35s 257ms/step - loss: 0.7519 - accuracy: 0.7090 - val_loss: 0.9110 - val_accuracy: 0.6604 - lr: 9.5000e-04\n",
      "Epoch 20/100\n",
      "135/135 [==============================] - 35s 256ms/step - loss: 0.7437 - accuracy: 0.7115 - val_loss: 0.8343 - val_accuracy: 0.6829 - lr: 9.5000e-04\n",
      "Epoch 21/100\n",
      "135/135 [==============================] - 35s 255ms/step - loss: 0.6801 - accuracy: 0.7341 - val_loss: 0.8405 - val_accuracy: 0.6829 - lr: 9.5000e-04\n",
      "Epoch 22/100\n",
      "135/135 [==============================] - 35s 257ms/step - loss: 0.7097 - accuracy: 0.7315 - val_loss: 0.9117 - val_accuracy: 0.6586 - lr: 9.5000e-04\n",
      "Epoch 23/100\n",
      "135/135 [==============================] - ETA: 0s - loss: 0.6588 - accuracy: 0.7439\n",
      "Epoch 23: ReduceLROnPlateau reducing learning rate to 0.0009025000152178108.\n",
      "135/135 [==============================] - 35s 260ms/step - loss: 0.6588 - accuracy: 0.7439 - val_loss: 1.1165 - val_accuracy: 0.5931 - lr: 9.5000e-04\n",
      "Epoch 24/100\n",
      "135/135 [==============================] - 35s 258ms/step - loss: 0.6495 - accuracy: 0.7544 - val_loss: 0.8909 - val_accuracy: 0.6567 - lr: 9.0250e-04\n",
      "Epoch 25/100\n",
      "135/135 [==============================] - ETA: 0s - loss: 0.6530 - accuracy: 0.7446"
     ]
    },
    {
     "name": "stderr",
     "output_type": "stream",
     "text": [
      "WARNING:absl:Found untraced functions such as _jit_compiled_convolution_op, _jit_compiled_convolution_op, _jit_compiled_convolution_op, _jit_compiled_convolution_op, _jit_compiled_convolution_op while saving (showing 5 of 244). These functions will not be directly callable after loading.\n"
     ]
    },
    {
     "name": "stdout",
     "output_type": "stream",
     "text": [
      "INFO:tensorflow:Assets written to: ..\\..\\models\\inception_resnet_data_1_and_3_no_nv_v2_0_25\\assets\n"
     ]
    },
    {
     "name": "stderr",
     "output_type": "stream",
     "text": [
      "INFO:tensorflow:Assets written to: ..\\..\\models\\inception_resnet_data_1_and_3_no_nv_v2_0_25\\assets\n"
     ]
    },
    {
     "name": "stdout",
     "output_type": "stream",
     "text": [
      "135/135 [==============================] - 98s 727ms/step - loss: 0.6530 - accuracy: 0.7446 - val_loss: 0.7876 - val_accuracy: 0.6932 - lr: 9.0250e-04\n",
      "Epoch 26/100\n",
      "135/135 [==============================] - 36s 261ms/step - loss: 0.6190 - accuracy: 0.7688 - val_loss: 0.9984 - val_accuracy: 0.6314 - lr: 9.0250e-04\n",
      "Epoch 27/100\n",
      "135/135 [==============================] - 35s 261ms/step - loss: 0.6619 - accuracy: 0.7362 - val_loss: 3.5230 - val_accuracy: 0.5491 - lr: 9.0250e-04\n",
      "Epoch 28/100\n",
      "135/135 [==============================] - 34s 255ms/step - loss: 0.8451 - accuracy: 0.6747 - val_loss: 0.9157 - val_accuracy: 0.6698 - lr: 9.0250e-04\n",
      "Epoch 29/100\n",
      "135/135 [==============================] - 35s 256ms/step - loss: 0.6809 - accuracy: 0.7357 - val_loss: 0.8683 - val_accuracy: 0.6698 - lr: 9.0250e-04\n",
      "Epoch 30/100\n",
      "135/135 [==============================] - ETA: 0s - loss: 0.6299 - accuracy: 0.7583"
     ]
    },
    {
     "name": "stderr",
     "output_type": "stream",
     "text": [
      "WARNING:absl:Found untraced functions such as _jit_compiled_convolution_op, _jit_compiled_convolution_op, _jit_compiled_convolution_op, _jit_compiled_convolution_op, _jit_compiled_convolution_op while saving (showing 5 of 244). These functions will not be directly callable after loading.\n"
     ]
    },
    {
     "name": "stdout",
     "output_type": "stream",
     "text": [
      "INFO:tensorflow:Assets written to: ..\\..\\models\\inception_resnet_data_1_and_3_no_nv_v2_0_30\\assets\n"
     ]
    },
    {
     "name": "stderr",
     "output_type": "stream",
     "text": [
      "INFO:tensorflow:Assets written to: ..\\..\\models\\inception_resnet_data_1_and_3_no_nv_v2_0_30\\assets\n"
     ]
    },
    {
     "name": "stdout",
     "output_type": "stream",
     "text": [
      "135/135 [==============================] - 95s 706ms/step - loss: 0.6299 - accuracy: 0.7583 - val_loss: 0.7839 - val_accuracy: 0.7138 - lr: 9.0250e-04\n",
      "Epoch 31/100\n",
      "135/135 [==============================] - 35s 254ms/step - loss: 0.9051 - accuracy: 0.6433 - val_loss: 49.7317 - val_accuracy: 0.4228 - lr: 9.0250e-04\n",
      "Epoch 32/100\n",
      "135/135 [==============================] - 34s 255ms/step - loss: 0.8389 - accuracy: 0.6689 - val_loss: 1.7667 - val_accuracy: 0.4818 - lr: 9.0250e-04\n",
      "Epoch 33/100\n",
      "135/135 [==============================] - 35s 259ms/step - loss: 0.9286 - accuracy: 0.6431 - val_loss: 1.7679 - val_accuracy: 0.3461 - lr: 9.0250e-04\n",
      "Epoch 34/100\n",
      "135/135 [==============================] - 35s 258ms/step - loss: 1.0404 - accuracy: 0.6023 - val_loss: 1.5530 - val_accuracy: 0.5323 - lr: 9.0250e-04\n",
      "Epoch 35/100\n",
      "135/135 [==============================] - ETA: 0s - loss: 0.9921 - accuracy: 0.6205\n",
      "Epoch 35: ReduceLROnPlateau reducing learning rate to 0.0008573750033974647.\n",
      "135/135 [==============================] - 36s 266ms/step - loss: 0.9921 - accuracy: 0.6205 - val_loss: 10.7782 - val_accuracy: 0.5313 - lr: 9.0250e-04\n",
      "Epoch 36/100\n",
      "135/135 [==============================] - 36s 268ms/step - loss: 0.9984 - accuracy: 0.6154 - val_loss: 1.9414 - val_accuracy: 0.2030 - lr: 8.5737e-04\n",
      "Epoch 37/100\n",
      "135/135 [==============================] - 35s 257ms/step - loss: 1.1074 - accuracy: 0.5600 - val_loss: 1.0370 - val_accuracy: 0.5978 - lr: 8.5737e-04\n",
      "Epoch 38/100\n",
      "135/135 [==============================] - 34s 253ms/step - loss: 0.9757 - accuracy: 0.6237 - val_loss: 1.0789 - val_accuracy: 0.5772 - lr: 8.5737e-04\n",
      "Epoch 39/100\n",
      "135/135 [==============================] - 35s 256ms/step - loss: 0.9388 - accuracy: 0.6279 - val_loss: 4.8751 - val_accuracy: 0.6080 - lr: 8.5737e-04\n",
      "Epoch 40/100\n",
      "135/135 [==============================] - ETA: 0s - loss: 0.9535 - accuracy: 0.6228\n",
      "Epoch 40: ReduceLROnPlateau reducing learning rate to 0.0008145062311086804.\n",
      "135/135 [==============================] - 35s 260ms/step - loss: 0.9535 - accuracy: 0.6228 - val_loss: 1.1306 - val_accuracy: 0.5435 - lr: 8.5737e-04\n"
     ]
    }
   ],
   "source": [
    "history0 = run_model(\n",
    "    train1_ds,\n",
    "    valid1_ds,\n",
    "    get_basic_model,\n",
    "    os.path.join('..', '..', 'models', 'inception_resnet_data_1_and_3_no_nv_v2_0_{epoch}'),\n",
    "    os.path.join('..', '..', 'tensor_logs', 'inception_resnet_data_1_and_3_no_nv_v2_0'))"
   ],
   "metadata": {
    "collapsed": false
   }
  },
  {
   "cell_type": "code",
   "execution_count": 8,
   "outputs": [
    {
     "data": {
      "text/plain": "<Figure size 1200x600 with 2 Axes>",
      "image/png": "[encoded data removed]"
     },
     "metadata": {},
     "output_type": "display_data"
    }
   ],
   "source": [
    "plot_single_output_history(history0.history)"
   ],
   "metadata": {
    "collapsed": false
   }
  },
  {
   "cell_type": "code",
   "execution_count": 9,
   "outputs": [],
   "source": [
    "def get_model_partly_frozen() -> keras.Model:\n",
    "    base_model = InceptionResNetV2(\n",
    "        include_top=False,\n",
    "        weights='imagenet',\n",
    "        input_shape=(HEIGHT, WIDTH, 3))\n",
    "\n",
    "    for cnt in range(len(base_model.layers) // 2, len(base_model.layers)):\n",
    "        base_model.layers[cnt].trainable = False\n",
    "\n",
    "    flat = keras.layers.Flatten()(base_model.output)\n",
    "    locator_module = keras.layers.Dense(4608, activation='relu')(flat)\n",
    "    locator_module = keras.layers.Dropout(.3)(locator_module)\n",
    "    locator_module = keras.layers.Dense(2048, activation='relu')(locator_module)\n",
    "    locator_module = keras.layers.Dropout(.3)(locator_module)\n",
    "    locator_module = keras.layers.Dense(num_classes, activation='softmax')(locator_module)\n",
    "    model = keras.Model(base_model.input, outputs=locator_module)\n",
    "\n",
    "    model.compile(\n",
    "        optimizer='adam',\n",
    "        loss='categorical_crossentropy',\n",
    "        metrics=['accuracy'])\n",
    "\n",
    "    return model"
   ],
   "metadata": {
    "collapsed": false
   }
  },
  {
   "cell_type": "code",
   "execution_count": 10,
   "outputs": [
    {
     "name": "stdout",
     "output_type": "stream",
     "text": [
      "Epoch 1/100\n",
      "135/135 [==============================] - ETA: 0s - loss: 3.3118 - accuracy: 0.3420"
     ]
    },
    {
     "name": "stderr",
     "output_type": "stream",
     "text": [
      "WARNING:absl:Found untraced functions such as _jit_compiled_convolution_op, _jit_compiled_convolution_op, _jit_compiled_convolution_op, _jit_compiled_convolution_op, _jit_compiled_convolution_op while saving (showing 5 of 244). These functions will not be directly callable after loading.\n"
     ]
    },
    {
     "name": "stdout",
     "output_type": "stream",
     "text": [
      "INFO:tensorflow:Assets written to: ..\\..\\models\\inception_resnet_data_1_and_3_no_nv_v2_1_1\\assets\n"
     ]
    },
    {
     "name": "stderr",
     "output_type": "stream",
     "text": [
      "INFO:tensorflow:Assets written to: ..\\..\\models\\inception_resnet_data_1_and_3_no_nv_v2_1_1\\assets\n"
     ]
    },
    {
     "name": "stdout",
     "output_type": "stream",
     "text": [
      "135/135 [==============================] - 110s 724ms/step - loss: 3.3118 - accuracy: 0.3420 - val_loss: 1.7524 - val_accuracy: 0.3414 - lr: 0.0010\n",
      "Epoch 2/100\n",
      "135/135 [==============================] - ETA: 0s - loss: 1.3434 - accuracy: 0.4638"
     ]
    },
    {
     "name": "stderr",
     "output_type": "stream",
     "text": [
      "WARNING:absl:Found untraced functions such as _jit_compiled_convolution_op, _jit_compiled_convolution_op, _jit_compiled_convolution_op, _jit_compiled_convolution_op, _jit_compiled_convolution_op while saving (showing 5 of 244). These functions will not be directly callable after loading.\n"
     ]
    },
    {
     "name": "stdout",
     "output_type": "stream",
     "text": [
      "INFO:tensorflow:Assets written to: ..\\..\\models\\inception_resnet_data_1_and_3_no_nv_v2_1_2\\assets\n"
     ]
    },
    {
     "name": "stderr",
     "output_type": "stream",
     "text": [
      "INFO:tensorflow:Assets written to: ..\\..\\models\\inception_resnet_data_1_and_3_no_nv_v2_1_2\\assets\n"
     ]
    },
    {
     "name": "stdout",
     "output_type": "stream",
     "text": [
      "135/135 [==============================] - 97s 718ms/step - loss: 1.3434 - accuracy: 0.4638 - val_loss: 1.2966 - val_accuracy: 0.4509 - lr: 0.0010\n",
      "Epoch 3/100\n",
      " 87/135 [==================>...........] - ETA: 12s - loss: 1.2235 - accuracy: 0.5180"
     ]
    }
   ],
   "source": [
    "history1 = run_model(\n",
    "    train1_ds,\n",
    "    valid1_ds,\n",
    "    get_model_partly_frozen,\n",
    "    os.path.join('..', '..', 'models', 'inception_resnet_data_1_and_3_no_nv_v2_1_{epoch}'),\n",
    "    os.path.join('..', '..', 'tensor_logs', 'inception_resnet_data_1_and_3_no_nv_v2_1'))"
   ],
   "metadata": {
    "collapsed": false
   }
  },
  {
   "cell_type": "code",
   "execution_count": 11,
   "outputs": [],
   "source": [
    "plot_single_output_history(history1.history)"
   ],
   "metadata": {
    "collapsed": false
   }
  },
  {
   "cell_type": "code",
   "execution_count": 12,
   "outputs": [],
   "source": [
    "def get_model_with_attention() -> keras.Model:\n",
    "    def get_attention_module(prev: keras.layers.Layer) -> keras.layers.Layer:\n",
    "        gap_layer = keras.layers.GlobalAveragePooling2D()(prev)\n",
    "        gap_layer_res = keras.layers.Reshape((1, 1, 1536))(gap_layer)\n",
    "        dense = keras.layers.Dense(1536, activation='relu')(gap_layer_res)\n",
    "        dense = keras.layers.Dense(1536, activation='softmax')(dense)\n",
    "        mul_layer = keras.layers.Multiply()([prev, dense])\n",
    "\n",
    "        return mul_layer\n",
    "\n",
    "    base_model = InceptionResNetV2(\n",
    "        include_top=False,\n",
    "        weights='imagenet',\n",
    "        input_shape=(HEIGHT, WIDTH, 3))\n",
    "    attention_module = get_attention_module(base_model.output)\n",
    "    flat = keras.layers.Flatten()(attention_module)\n",
    "    locator_module = keras.layers.Dense(2048, activation='relu')(flat)\n",
    "    locator_module = keras.layers.Dropout(.3)(locator_module)\n",
    "    locator_module = keras.layers.Dense(num_classes, activation='softmax')(locator_module)\n",
    "    model = keras.Model(base_model.input, outputs=locator_module)\n",
    "\n",
    "    model.compile(\n",
    "        optimizer='adam',\n",
    "        loss='categorical_crossentropy',\n",
    "        metrics=['accuracy'])\n",
    "\n",
    "    return model"
   ],
   "metadata": {
    "collapsed": false
   }
  },
  {
   "cell_type": "code",
   "execution_count": 13,
   "outputs": [],
   "source": [
    "history2 = run_model(\n",
    "    train1_ds,\n",
    "    valid1_ds,\n",
    "    get_model_with_attention,\n",
    "    os.path.join('..', '..', 'models', 'inception_resnet_data_1_and_3_no_nv_v2_2_{epoch}'),\n",
    "    os.path.join('..', '..', 'tensor_logs', 'inception_resnet_data_1_and_3_no_nv_v2_2'))"
   ],
   "metadata": {
    "collapsed": false
   }
  },
  {
   "cell_type": "code",
   "execution_count": 14,
   "outputs": [],
   "source": [
    "plot_single_output_history(history2.history)"
   ],
   "metadata": {
    "collapsed": false
   }
  },
  {
   "cell_type": "code",
   "execution_count": 16,
   "outputs": [],
   "source": [
    "import numpy as np\n",
    "\n",
    "np.save(os.path.join('..', '..', 'histories', 'inception_resnet_data_1_and_3_no_nv_v2_0.npy'), history0.history)\n",
    "np.save(os.path.join('..', '..', 'histories', 'inception_resnet_data_1_and_3_no_nv_v2_1.npy'), history1.history)\n",
    "np.save(os.path.join('..', '..', 'histories', 'inception_resnet_data_1_and_3_no_nv_v2_2.npy'), history2.history)\n",
    "\n",
    "# history1=np.load('history1.npy',allow_pickle='TRUE').item()"
   ],
   "metadata": {
    "collapsed": false
   }
  },
  {
   "cell_type": "code",
   "execution_count": null,
   "outputs": [],
   "source": [],
   "metadata": {
    "collapsed": false
   }
  }
 ],
 "metadata": {
  "kernelspec": {
   "display_name": "Python 3",
   "language": "python",
   "name": "python3"
  },
  "language_info": {
   "codemirror_mode": {
    "name": "ipython",
    "version": 2
   },
   "file_extension": ".py",
   "mimetype": "text/x-python",
   "name": "python",
   "nbconvert_exporter": "python",
   "pygments_lexer": "ipython2",
   "version": "2.7.6"
  }
 },
 "nbformat": 4,
 "nbformat_minor": 0
}
