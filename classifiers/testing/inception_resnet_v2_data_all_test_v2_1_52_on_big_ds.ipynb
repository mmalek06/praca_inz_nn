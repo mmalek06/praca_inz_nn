{
 "cells": [
  {
   "cell_type": "code",
   "execution_count": 1,
   "metadata": {
    "collapsed": true
   },
   "outputs": [],
   "source": [
    "import os\n",
    "\n",
    "from tensorflow import keras\n",
    "\n",
    "WIDTH = 150\n",
    "HEIGHT = 150"
   ]
  },
  {
   "cell_type": "code",
   "execution_count": 2,
   "outputs": [
    {
     "name": "stdout",
     "output_type": "stream",
     "text": [
      "Found 9743 files belonging to 9 classes.\n"
     ]
    }
   ],
   "source": [
    "base_data1_dir = os.path.join(\n",
    "    '..',\n",
    "    '..',\n",
    "    '..',\n",
    "    'data_all')\n",
    "test_data1_dir = os.path.join(base_data1_dir, 'validation')\n",
    "\n",
    "test1_ds = keras.utils.image_dataset_from_directory(\n",
    "    directory=test_data1_dir,\n",
    "    labels='inferred',\n",
    "    label_mode='categorical',\n",
    "    batch_size=32,\n",
    "    image_size=(HEIGHT, WIDTH))"
   ],
   "metadata": {
    "collapsed": false
   }
  },
  {
   "cell_type": "code",
   "execution_count": 3,
   "outputs": [],
   "source": [
    "model2 = keras.models.load_model(\n",
    "    os.path.join(\n",
    "        '..',\n",
    "        '..',\n",
    "        'models',\n",
    "        'inception_resnet_data_all_v2_1_52'))"
   ],
   "metadata": {
    "collapsed": false
   }
  },
  {
   "cell_type": "code",
   "execution_count": 4,
   "outputs": [
    {
     "name": "stdout",
     "output_type": "stream",
     "text": [
      "305/305 [==============================] - 25s 63ms/step - loss: 0.4811 - accuracy: 0.8460\n"
     ]
    },
    {
     "data": {
      "text/plain": "[0.48114511370658875, 0.8460432887077332]"
     },
     "execution_count": 4,
     "metadata": {},
     "output_type": "execute_result"
    }
   ],
   "source": [
    "model2.evaluate(test1_ds)"
   ],
   "metadata": {
    "collapsed": false
   }
  },
  {
   "cell_type": "code",
   "execution_count": null,
   "outputs": [],
   "source": [],
   "metadata": {
    "collapsed": false
   }
  }
 ],
 "metadata": {
  "kernelspec": {
   "display_name": "Python 3",
   "language": "python",
   "name": "python3"
  },
  "language_info": {
   "codemirror_mode": {
    "name": "ipython",
    "version": 2
   },
   "file_extension": ".py",
   "mimetype": "text/x-python",
   "name": "python",
   "nbconvert_exporter": "python",
   "pygments_lexer": "ipython2",
   "version": "2.7.6"
  }
 },
 "nbformat": 4,
 "nbformat_minor": 0
}
