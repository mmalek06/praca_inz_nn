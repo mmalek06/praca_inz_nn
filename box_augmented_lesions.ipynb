{
 "cells": [
  {
   "cell_type": "markdown",
   "source": [
    "<h3>This notebook contains code used to create bounding boxes around lesions. Coords will be added to a new metadata file.</h3>"
   ],
   "metadata": {
    "collapsed": false
   }
  },
  {
   "cell_type": "code",
   "execution_count": 1,
   "outputs": [],
   "source": [
    "import os\n",
    "\n",
    "import pandas as pd\n",
    "import numpy as np\n",
    "import PIL.Image\n",
    "\n",
    "from typing import Tuple"
   ],
   "metadata": {
    "collapsed": false
   }
  },
  {
   "cell_type": "code",
   "execution_count": 2,
   "outputs": [],
   "source": [
    "get_paths = lambda path: [\n",
    "    f'{os.path.join(root, file)}'\n",
    "    for root, dirs, files in os.walk(path)\n",
    "    for file in files\n",
    "]\n",
    "get_names = lambda path: [\n",
    "    file_name.split('.')[0]\n",
    "    for dir_path, _, file_names in os.walk(path)\n",
    "    for file_name in file_names\n",
    "]\n",
    "masks_dir = os.path.join('..', 'data', 'masks_200x150')\n",
    "mask_paths = get_paths(masks_dir)\n",
    "augmentation_training_dir = os.path.join(\n",
    "    '..',\n",
    "    'data',\n",
    "    'images_original_inception_resnet_v2_200x150_splitted_with_augmentation',\n",
    "    'training')\n",
    "augmentation_validation_dir = os.path.join(\n",
    "    '..',\n",
    "    'data',\n",
    "    'images_original_inception_resnet_v2_200x150_splitted_with_augmentation',\n",
    "    'validation')\n",
    "augmentation_training_paths = get_paths(augmentation_training_dir)\n",
    "augmentation_validation_paths = get_paths(augmentation_validation_dir)"
   ],
   "metadata": {
    "collapsed": false
   }
  },
  {
   "cell_type": "code",
   "execution_count": 3,
   "outputs": [],
   "source": [
    "def get_coord(array: np.ndarray) -> int:\n",
    "    coord = 0\n",
    "\n",
    "    for row in array:\n",
    "        if np.any(row > 0):\n",
    "            break\n",
    "\n",
    "        coord += 1\n",
    "\n",
    "    return coord\n",
    "\n",
    "\n",
    "def get_name(path: str) -> str:\n",
    "    return path.split(os.sep)[-1].split('.')[-2]\n",
    "\n",
    "\n",
    "def get_mask_name(mask_path: str) -> str:\n",
    "    return '_'.join(get_name(mask_path).split('_')[:-1])"
   ],
   "metadata": {
    "collapsed": false
   }
  },
  {
   "cell_type": "code",
   "execution_count": 9,
   "outputs": [],
   "source": [
    "def append_copy_coords(orig_name: str, paths: list[str], boxes: list, box: Tuple[int, int, int, int]) -> None:\n",
    "    for counter in range(len(paths)):\n",
    "        path = paths[counter]\n",
    "        copy_name = get_name(path)\n",
    "\n",
    "        if orig_name == copy_name:\n",
    "            continue\n",
    "\n",
    "        root_name = '_'.join(copy_name.split('_')[:-1])\n",
    "\n",
    "        if root_name == orig_name:\n",
    "            boxes.append((copy_name, box[0], box[1], box[2], box[3]))"
   ],
   "metadata": {
    "collapsed": false
   }
  },
  {
   "cell_type": "code",
   "execution_count": 10,
   "outputs": [],
   "source": [
    "training_boxes = []\n",
    "validation_boxes = []\n",
    "validation_names_hash = set(map(lambda path: get_mask_name(path), augmentation_validation_paths))\n",
    "\n",
    "for mask_path in mask_paths:\n",
    "    with PIL.Image.open(mask_path).convert('RGB').convert('L') as mask:\n",
    "        mask_pixels = np.asarray(mask)\n",
    "        shape = mask_pixels.shape\n",
    "        name = get_mask_name(mask_path)\n",
    "        top = get_coord(mask_pixels)\n",
    "        bottom = shape[0] - get_coord(mask_pixels[::-1])\n",
    "        left = get_coord(mask_pixels.T)\n",
    "        right = shape[1] - get_coord(mask_pixels.T[::-1])\n",
    "        box = (top, bottom, left, right)\n",
    "\n",
    "        if name not in validation_names_hash:\n",
    "            training_boxes.append((name, top, bottom, left, right))\n",
    "            append_copy_coords(name, augmentation_training_paths, training_boxes, box)\n",
    "        else:\n",
    "            validation_boxes.append((name, top, bottom, left, right))\n",
    "            append_copy_coords(name, augmentation_validation_paths, validation_boxes, box)"
   ],
   "metadata": {
    "collapsed": false
   }
  },
  {
   "cell_type": "code",
   "execution_count": 12,
   "outputs": [],
   "source": [
    "train_df = pd.DataFrame(\n",
    "    training_boxes,\n",
    "    columns=['image_id', 'top', 'bottom', 'left', 'right'])\n",
    "valid_df = pd.DataFrame(\n",
    "    validation_boxes,\n",
    "    columns=['image_id', 'top', 'bottom', 'left', 'right'])\n",
    "\n",
    "\n",
    "train_df.to_csv(os.path.join('..', 'data', 'training_boxes.csv'), index=False)\n",
    "valid_df.to_csv(os.path.join('..', 'data', 'validation_boxes.csv'), index=False)"
   ],
   "metadata": {
    "collapsed": false
   }
  },
  {
   "cell_type": "code",
   "execution_count": null,
   "outputs": [],
   "source": [],
   "metadata": {
    "collapsed": false
   }
  }
 ],
 "metadata": {
  "kernelspec": {
   "display_name": "Python 3",
   "language": "python",
   "name": "python3"
  },
  "language_info": {
   "codemirror_mode": {
    "name": "ipython",
    "version": 2
   },
   "file_extension": ".py",
   "mimetype": "text/x-python",
   "name": "python",
   "nbconvert_exporter": "python",
   "pygments_lexer": "ipython2",
   "version": "2.7.6"
  }
 },
 "nbformat": 4,
 "nbformat_minor": 0
}
