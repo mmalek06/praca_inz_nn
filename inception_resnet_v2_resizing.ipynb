{
 "cells": [
  {
   "cell_type": "code",
   "execution_count": 1,
   "outputs": [],
   "source": [
    "import PIL.Image\n",
    "import os"
   ],
   "metadata": {
    "collapsed": false
   }
  },
  {
   "cell_type": "code",
   "execution_count": 7,
   "outputs": [],
   "source": [
    "get_paths = lambda path: [f'{root}/{file}' for root, dirs, files in os.walk(path) for file in files]\n",
    "original_path = os.path.join('..', 'data', 'images_original')\n",
    "cropped_path = os.path.join('..', 'data', 'images_original_inception_resnet_v2_200x150')\n",
    "image_paths = get_paths(original_path)"
   ],
   "metadata": {
    "collapsed": false
   }
  },
  {
   "cell_type": "markdown",
   "source": [
    "Let's first try with images 3x smaller than the originals. The assumption is that the Inception model will be able to train well with non-square images. Later on I'll also write an algorithm to actually crop the images to the maximum allowed size of 299x299 pixels."
   ],
   "metadata": {
    "collapsed": false
   }
  },
  {
   "cell_type": "code",
   "execution_count": 10,
   "outputs": [],
   "source": [
    "SMALLER_WIDTH = 600 // 3\n",
    "SMALLER_HEIGHT = 450 // 3\n",
    "\n",
    "for image_path in image_paths:\n",
    "    image = PIL.Image.open(image_path)\n",
    "    smaller_image = image.resize((SMALLER_WIDTH, SMALLER_HEIGHT))\n",
    "    path_parts = image_path.split('/')\n",
    "    new_name = path_parts[-1]\n",
    "    new_path = os.path.join(cropped_path, new_name)\n",
    "\n",
    "    smaller_image.save(new_path)"
   ],
   "metadata": {
    "collapsed": false
   }
  }
 ],
 "metadata": {
  "kernelspec": {
   "display_name": "Python 3",
   "language": "python",
   "name": "python3"
  },
  "language_info": {
   "codemirror_mode": {
    "name": "ipython",
    "version": 2
   },
   "file_extension": ".py",
   "mimetype": "text/x-python",
   "name": "python",
   "nbconvert_exporter": "python",
   "pygments_lexer": "ipython2",
   "version": "2.7.6"
  }
 },
 "nbformat": 4,
 "nbformat_minor": 0
}
