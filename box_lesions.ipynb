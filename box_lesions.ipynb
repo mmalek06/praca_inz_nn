{
 "cells": [
  {
   "cell_type": "code",
   "execution_count": 1,
   "metadata": {
    "collapsed": true
   },
   "outputs": [],
   "source": [
    "import random\n",
    "import os\n",
    "\n",
    "import numpy as np\n",
    "import PIL.Image\n",
    "import PIL as pil\n",
    "\n",
    "from enum import Enum\n",
    "from PIL import Image, ImageDraw, ImageChops, ImageFilter"
   ]
  },
  {
   "cell_type": "code",
   "execution_count": 3,
   "outputs": [],
   "source": [
    "get_paths = lambda path: [f'{os.path.join(root, file)}' for root, dirs, files in os.walk(path) for file in files]\n",
    "masks_dir = os.path.join('..', 'data', 'masks')\n",
    "mask_paths = get_paths(masks_dir)"
   ],
   "metadata": {
    "collapsed": false
   }
  },
  {
   "cell_type": "code",
   "execution_count": 6,
   "outputs": [],
   "source": [
    "def get_coord(array: np.ndarray) -> int:\n",
    "    coord = 0\n",
    "\n",
    "    for row in array:\n",
    "        if np.any(row > 0):\n",
    "            break\n",
    "\n",
    "        coord += 1\n",
    "\n",
    "    return coord\n",
    "\n",
    "\n",
    "for mask_path in mask_paths:\n",
    "    mask = PIL.Image.open(mask_path)\n",
    "    mask_pixels = np.asarray(mask)\n",
    "    shape = mask_pixels.shape\n",
    "    top = get_coord(mask_pixels)\n",
    "    bottom = get_coord(mask_pixels[::-1])\n",
    "    left = get_coord(mask_pixels.T)\n",
    "    right = get_coord(mask_pixels.T[::-1])\n",
    "    top_left = (top, left)\n",
    "    top_right = (top, shape[1] - right)\n",
    "    bottom_left = (shape[0] - bottom, left)\n",
    "    bottom_right = (shape[0] - bottom, shape[1] - right)\n",
    "    break"
   ],
   "metadata": {
    "collapsed": false
   }
  },
  {
   "cell_type": "code",
   "execution_count": null,
   "outputs": [],
   "source": [],
   "metadata": {
    "collapsed": false
   }
  }
 ],
 "metadata": {
  "kernelspec": {
   "display_name": "Python 3",
   "language": "python",
   "name": "python3"
  },
  "language_info": {
   "codemirror_mode": {
    "name": "ipython",
    "version": 2
   },
   "file_extension": ".py",
   "mimetype": "text/x-python",
   "name": "python",
   "nbconvert_exporter": "python",
   "pygments_lexer": "ipython2",
   "version": "2.7.6"
  }
 },
 "nbformat": 4,
 "nbformat_minor": 0
}
