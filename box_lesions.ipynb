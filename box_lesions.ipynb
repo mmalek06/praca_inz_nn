{
 "cells": [
  {
   "cell_type": "markdown",
   "source": [
    "<h3>This notebook contains code used to create bounding boxes around lesions. Coords will be added to the metadata file.</h3>"
   ],
   "metadata": {
    "collapsed": false
   }
  },
  {
   "cell_type": "code",
   "execution_count": 1,
   "metadata": {
    "collapsed": true
   },
   "outputs": [],
   "source": [
    "import os\n",
    "\n",
    "import pandas as pd\n",
    "import numpy as np\n",
    "import PIL.Image\n",
    "\n",
    "from functions.drawing import draw_rectangle"
   ]
  },
  {
   "cell_type": "code",
   "execution_count": 2,
   "outputs": [],
   "source": [
    "get_paths = lambda path: [f'{os.path.join(root, file)}' for root, dirs, files in os.walk(path) for file in files]\n",
    "masks_dir = os.path.join('..', 'data', 'masks_200x150')\n",
    "boxes_dir = os.path.join('..', 'data', 'boxes')\n",
    "mask_paths = get_paths(masks_dir)\n",
    "metadata_path = os.path.join('..', 'data', 'HAM10000_metadata.csv')\n",
    "data = pd.read_csv(metadata_path).sort_values(by='image_id')"
   ],
   "metadata": {
    "collapsed": false
   }
  },
  {
   "cell_type": "code",
   "execution_count": 3,
   "outputs": [],
   "source": [
    "def get_coord(array: np.ndarray) -> int:\n",
    "    coord = 0\n",
    "\n",
    "    for row in array:\n",
    "        if np.any(row > 0):\n",
    "            break\n",
    "\n",
    "        coord += 1\n",
    "\n",
    "    return coord\n",
    "\n",
    "\n",
    "def get_name(mask_path: str) -> str:\n",
    "    return '_'.join(\n",
    "        mask_path\n",
    "        .split(os.sep)[-1]\n",
    "        .split('.')[-2]\n",
    "        .split('_')[:-1])"
   ],
   "metadata": {
    "collapsed": false
   }
  },
  {
   "cell_type": "markdown",
   "source": [
    "Some images had different formats from the other ones. Better to drop the alpha channel entirely and operate on grayscale images."
   ],
   "metadata": {
    "collapsed": false
   }
  },
  {
   "cell_type": "code",
   "execution_count": 7,
   "outputs": [],
   "source": [
    "tops = []\n",
    "bottoms = []\n",
    "lefts = []\n",
    "rights = []\n",
    "\n",
    "for mask_path in mask_paths:\n",
    "    with PIL.Image.open(mask_path).convert('RGB').convert('L') as mask:\n",
    "        mask_pixels = np.asarray(mask)\n",
    "        shape = mask_pixels.shape\n",
    "        name = get_name(mask_path)\n",
    "\n",
    "        tops.append(get_coord(mask_pixels))\n",
    "        bottoms.append(shape[0] - get_coord(mask_pixels[::-1]))\n",
    "        lefts.append(get_coord(mask_pixels.T))\n",
    "        rights.append(shape[1] - get_coord(mask_pixels.T[::-1]))\n",
    "\n",
    "        new_path = os.path.join(boxes_dir, f'{name}.png')\n",
    "\n",
    "        draw_rectangle(mask, (lefts[-1], tops[-1], rights[-1], bottoms[-1]), new_path)"
   ],
   "metadata": {
    "collapsed": false
   }
  },
  {
   "cell_type": "code",
   "execution_count": 8,
   "outputs": [],
   "source": [
    "\n",
    "\n",
    "data['top'] = tops\n",
    "data['bottom'] = bottoms\n",
    "data['left'] = lefts\n",
    "data['right'] = rights"
   ],
   "metadata": {
    "collapsed": false
   }
  },
  {
   "cell_type": "code",
   "execution_count": 9,
   "outputs": [],
   "source": [
    "extended_metadata_path = os.path.join('..', 'data', 'HAM10000_metadata_ext.csv')\n",
    "\n",
    "data.to_csv(extended_metadata_path)"
   ],
   "metadata": {
    "collapsed": false
   }
  },
  {
   "cell_type": "code",
   "execution_count": null,
   "outputs": [],
   "source": [],
   "metadata": {
    "collapsed": false
   }
  }
 ],
 "metadata": {
  "kernelspec": {
   "display_name": "Python 3",
   "language": "python",
   "name": "python3"
  },
  "language_info": {
   "codemirror_mode": {
    "name": "ipython",
    "version": 2
   },
   "file_extension": ".py",
   "mimetype": "text/x-python",
   "name": "python",
   "nbconvert_exporter": "python",
   "pygments_lexer": "ipython2",
   "version": "2.7.6"
  }
 },
 "nbformat": 4,
 "nbformat_minor": 0
}
