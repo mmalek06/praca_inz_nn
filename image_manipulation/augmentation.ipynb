{
 "cells": [
  {
   "cell_type": "markdown",
   "source": [
    "<h3>This notebook contains code that will augment the images before the training. It does the following:</h3>\n",
    "\n",
    "1. Add shapes such as transparent ellipses onto the images to simulate shadows.\n",
    "2. \"Gradient shadowing\" - the purpose is the same as in the first point but with using a gradient over the whole picture\n",
    "3. Blurs the images to simulate bad camera placement.\n",
    "4. Adds various artifacts to simulate dirty lens, dirty skin etc."
   ],
   "metadata": {
    "collapsed": false
   }
  },
  {
   "cell_type": "code",
   "execution_count": 40,
   "outputs": [],
   "source": [
    "import random\n",
    "import os\n",
    "\n",
    "import numpy as np\n",
    "import PIL.Image\n",
    "import PIL as pil\n",
    "\n",
    "from enum import Enum\n",
    "from PIL import Image, ImageDraw, ImageChops, ImageFilter\n",
    "from typing import Tuple\n",
    "from dataclasses import dataclass"
   ],
   "metadata": {
    "collapsed": false
   }
  },
  {
   "cell_type": "markdown",
   "source": [
    "<h3>Transparent ellipses</h3>"
   ],
   "metadata": {
    "collapsed": false
   }
  },
  {
   "cell_type": "code",
   "execution_count": 41,
   "outputs": [],
   "source": [
    "def crop_image(image: pil.Image.Image) -> Tuple[int, int]:\n",
    "    width, height = image.size\n",
    "    vertical_jitter = random.randint(int(height * .3), int(height * .4))\n",
    "    horizontal_jitter = random.randint(int(width * .3), int(width * .4))\n",
    "\n",
    "    return vertical_jitter, horizontal_jitter"
   ],
   "metadata": {
    "collapsed": false
   }
  },
  {
   "cell_type": "code",
   "execution_count": 42,
   "outputs": [],
   "source": [
    "def get_shadow_image(height: int, width: int) -> pil.Image.Image:\n",
    "    img = pil.Image.new('RGBA', (width, height), (0, 0, 0, 0))\n",
    "    draw = pil.ImageDraw.Draw(img)\n",
    "    center_x = width // 2\n",
    "    center_y = height // 2\n",
    "\n",
    "    for y in range(height):\n",
    "        for x in range(width):\n",
    "            dist_x = abs(x - center_x) / center_x\n",
    "            dist_y = abs(y - center_y) / center_y\n",
    "            dist = (dist_x**2 + dist_y**2)\n",
    "            alpha = 191 - int(dist * 191)\n",
    "\n",
    "            draw.point((x, y), fill=(0, 0, 0, alpha))\n",
    "\n",
    "    return img"
   ],
   "metadata": {
    "collapsed": false
   }
  },
  {
   "cell_type": "code",
   "execution_count": 43,
   "outputs": [],
   "source": [
    "def apply_point_shadow(box, original_image: pil.Image.Image, shadow: pil.Image.Image) -> pil.Image.Image:\n",
    "    padded = pil.Image.new('RGBA', original_image.size, (255, 255, 255, 0))\n",
    "\n",
    "    padded.paste(shadow, box)\n",
    "\n",
    "    image_with_shadow = pil.Image.alpha_composite(original_image, padded)\n",
    "\n",
    "    return image_with_shadow"
   ],
   "metadata": {
    "collapsed": false
   }
  },
  {
   "cell_type": "code",
   "execution_count": 44,
   "outputs": [],
   "source": [
    "def get_shadow_positions(original_image: pil.Image.Image, shadow: pil.Image.Image) -> list[Tuple[int, int]]:\n",
    "    step = 60\n",
    "    step_x = original_image.size[0] // step\n",
    "    step_y = original_image.size[1] // step\n",
    "    margin_v = shadow.size[1] // 2\n",
    "    margin_h = shadow.size[0] // 2\n",
    "    moves_to_the_right = [(-margin_v, step * idx - margin_h) for idx in range(step_x)]\n",
    "    moves_to_the_bottom = [(step * idx - margin_v, (step_x - 1) * step - margin_h) for idx in range(step_y)]\n",
    "    moves_to_the_left = [((step_y - 1) * step - margin_v, step * idx - margin_h) for idx in reversed(range(step_x))]\n",
    "    moves_to_the_top = [(step * idx - margin_v, -margin_h) for idx in reversed(range(step_y))]\n",
    "    shadow_positions = moves_to_the_right + moves_to_the_bottom + moves_to_the_left + moves_to_the_top\n",
    "    shadow_positions = [move for move in shadow_positions if bool(random.getrandbits(1))]\n",
    "\n",
    "    return shadow_positions"
   ],
   "metadata": {
    "collapsed": false
   }
  },
  {
   "cell_type": "code",
   "execution_count": 45,
   "outputs": [],
   "source": [
    "@dataclass\n",
    "class ShadowData:\n",
    "    shadow_img: PIL.Image.Image\n",
    "    shadow_positions: list[Tuple[int, int]]\n",
    "\n",
    "\n",
    "def get_shadow_data(original_image: pil.Image.Image) -> ShadowData:\n",
    "    min_ellipse_size = int(min(original_image.size) * .9)\n",
    "    max_ellipse_size = int(min(original_image.size) * 1.2)\n",
    "\n",
    "    while True:\n",
    "        width = random.randint(min_ellipse_size, max_ellipse_size)\n",
    "        height = random.randint(min_ellipse_size, max_ellipse_size)\n",
    "        start_x = random.randint(-width // 2, original_image.size[0] - width // 2)\n",
    "        start_y = random.randint(-height // 2, original_image.size[1] - height // 2)\n",
    "        end_x = start_x + width\n",
    "        end_y = start_y + height\n",
    "        inside_image_area = max(0, min(end_x, original_image.size[0]) - max(0, start_x)) * max(0, min(end_y, original_image.size[1]) - max(0, start_y))\n",
    "        total_area = width * height\n",
    "\n",
    "        if (inside_image_area / total_area) >= 0.4:\n",
    "            break\n",
    "\n",
    "    shadow = get_shadow_image(height, width)\n",
    "    shadow_positions = get_shadow_positions(original_image, shadow)\n",
    "\n",
    "    return ShadowData(shadow, shadow_positions)"
   ],
   "metadata": {
    "collapsed": false
   }
  },
  {
   "cell_type": "code",
   "execution_count": 46,
   "outputs": [],
   "source": [
    "get_paths = lambda path: [f'{os.path.join(root, file)}' for root, dirs, files in os.walk(path) for file in files]\n",
    "original_path = os.path.join('..', '..', 'data', 'images_original')\n",
    "image_paths = get_paths(original_path)"
   ],
   "metadata": {
    "collapsed": false
   }
  },
  {
   "cell_type": "code",
   "execution_count": 47,
   "outputs": [],
   "source": [
    "# prevent accidental run of this cell by checking if there are files in the augmented dir\n",
    "def directory_contains_files(directory_path):\n",
    "    # Get the list of items in the directory\n",
    "    items = os.listdir(directory_path)\n",
    "\n",
    "    # Check if any item in the directory is a file\n",
    "    for item in items:\n",
    "        item_path = os.path.join(directory_path, item)\n",
    "        if os.path.isfile(item_path):\n",
    "            return True\n",
    "\n",
    "    return False\n",
    "\n",
    "\n",
    "point_shadow_augmentation_path = os.path.join('..', '..', 'data', 'images_point_shadows')\n",
    "\n",
    "if not os.path.exists(point_shadow_augmentation_path):\n",
    "    os.makedirs(point_shadow_augmentation_path)\n",
    "if directory_contains_files(point_shadow_augmentation_path):\n",
    "    print(f'The directory {point_shadow_augmentation_path} already has some images in it.')\n",
    "else:\n",
    "    def point_shadow_worker(image_path: str) -> None:\n",
    "        image = Image.open(image_path).convert('RGBA')\n",
    "        path_parts = image_path.split(os.sep)\n",
    "        name_parts = path_parts[-1].split('.')\n",
    "        shadow_data = get_shadow_data(image)\n",
    "        copy_counter = 0\n",
    "\n",
    "        for move_y, move_x in shadow_data.shadow_positions:\n",
    "            copy = apply_point_shadow((move_x, move_y), image, shadow_data.shadow_img)\n",
    "            copy.convert('RGB').save(f'{point_shadow_augmentation_path}{os.sep}{name_parts[0]}_point_shadow_{copy_counter}.jpg')\n",
    "\n",
    "            copy_counter += 1\n",
    "\n",
    "\n",
    "    for image_path in image_paths:\n",
    "        point_shadow_worker(image_path)"
   ],
   "metadata": {
    "collapsed": false
   }
  },
  {
   "cell_type": "markdown",
   "source": [
    "<h3>Gradient shadowing</h3>"
   ],
   "metadata": {
    "collapsed": false
   }
  },
  {
   "cell_type": "code",
   "execution_count": 48,
   "outputs": [],
   "source": [
    "class GradientDirection(Enum):\n",
    "    TOP_TO_BOTTOM = 0\n",
    "    BOTTOM_TO_TOP = 1\n",
    "    LEFT_TO_RIGHT = 2\n",
    "    RIGHT_TO_LEFT = 3\n",
    "    TOP_LEFT_TO_BOTTOM_RIGHT = 4\n",
    "    TOP_RIGHT_TO_BOTTOM_LEFT = 5\n",
    "    BOTTOM_LEFT_TO_TOP_RIGHT = 6\n",
    "    BOTTOM_RIGHT_TO_TOP_LEFT = 7\n",
    "\n",
    "\n",
    "def apply_gradient_shadow(\n",
    "    image: PIL.Image.Image,\n",
    "    direction: GradientDirection,\n",
    "    gradient_length=0.5) -> PIL.Image.Image:\n",
    "\n",
    "    img = image.copy()\n",
    "    gradient = Image.new('L', (img.width, img.height))\n",
    "    x = np.linspace(0, gradient_length, img.width)\n",
    "    y = np.linspace(0, gradient_length, img.height)\n",
    "    X, Y = np.meshgrid(x, y)\n",
    "\n",
    "    if direction == GradientDirection.TOP_TO_BOTTOM:\n",
    "        Z = Y\n",
    "    elif direction == GradientDirection.BOTTOM_TO_TOP:\n",
    "        Z = np.flipud(Y)\n",
    "    elif direction == GradientDirection.LEFT_TO_RIGHT:\n",
    "        Z = X\n",
    "    elif direction == GradientDirection.RIGHT_TO_LEFT:\n",
    "        Z = np.fliplr(X)\n",
    "    elif direction == GradientDirection.TOP_LEFT_TO_BOTTOM_RIGHT:\n",
    "        Z = np.sqrt(X**2 + Y**2)\n",
    "    elif direction == GradientDirection.TOP_RIGHT_TO_BOTTOM_LEFT:\n",
    "        Z = np.sqrt(np.fliplr(X)**2 + Y**2)\n",
    "    elif direction == GradientDirection.BOTTOM_LEFT_TO_TOP_RIGHT:\n",
    "        Z = np.sqrt(X**2 + np.flipud(Y)**2)\n",
    "    elif direction == GradientDirection.BOTTOM_RIGHT_TO_TOP_LEFT:\n",
    "        Z = np.sqrt(np.fliplr(X)**2 + np.flipud(Y)**2)\n",
    "\n",
    "    gradient_data = np.floor((255 * Z / Z.max())).astype(np.uint8)\n",
    "\n",
    "    gradient.putdata(gradient_data.flatten())\n",
    "\n",
    "    return ImageChops.multiply(img, gradient.convert('RGBA'))"
   ],
   "metadata": {
    "collapsed": false
   }
  },
  {
   "cell_type": "code",
   "execution_count": 49,
   "outputs": [],
   "source": [
    "gradient_shadow_augmentation_path = os.path.join('..', '..', 'data', 'images_gradient_shadows')\n",
    "\n",
    "if not os.path.exists(gradient_shadow_augmentation_path):\n",
    "    os.makedirs(gradient_shadow_augmentation_path)\n",
    "if directory_contains_files(gradient_shadow_augmentation_path):\n",
    "    print(f'The directory {gradient_shadow_augmentation_path} already has some images in it.')\n",
    "else:\n",
    "    def gradient_shadow_worker(image_path: str) -> None:\n",
    "        image = Image.open(image_path).convert('RGBA')\n",
    "        path_parts = image_path.split(os.sep)\n",
    "        name_parts = path_parts[-1].split('.')\n",
    "        copy_counter = 0\n",
    "\n",
    "        for direction in GradientDirection:\n",
    "            copy = apply_gradient_shadow(image, direction)\n",
    "\n",
    "            copy.convert('RGB').save(os.path.join(gradient_shadow_augmentation_path, f'{name_parts[0]}_gradient_shadow_{copy_counter}.jpg'))\n",
    "\n",
    "            copy_counter += 1\n",
    "\n",
    "\n",
    "    for image_path in image_paths:\n",
    "        gradient_shadow_worker(image_path)"
   ],
   "metadata": {
    "collapsed": false
   }
  },
  {
   "cell_type": "markdown",
   "source": [
    "<h3>Blurring</h3>"
   ],
   "metadata": {
    "collapsed": false
   }
  },
  {
   "cell_type": "code",
   "execution_count": 50,
   "outputs": [],
   "source": [
    "def apply_blur(image: PIL.Image.Image, radius: int) -> PIL.Image.Image:\n",
    "    return image.filter(ImageFilter.GaussianBlur(radius=radius))"
   ],
   "metadata": {
    "collapsed": false
   }
  },
  {
   "cell_type": "code",
   "execution_count": 51,
   "outputs": [],
   "source": [
    "blurring_augmentation_path = os.path.join('..', '..', 'data', 'images_blurred')\n",
    "\n",
    "if not os.path.exists(blurring_augmentation_path):\n",
    "    os.makedirs(blurring_augmentation_path)\n",
    "if directory_contains_files(blurring_augmentation_path):\n",
    "    print(f'The directory {blurring_augmentation_path} already has some images in it.')\n",
    "else:\n",
    "    def blur_worker(image_path: str) -> None:\n",
    "        image = Image.open(image_path).convert('RGBA')\n",
    "        path_parts = image_path.split(os.sep)\n",
    "        name_parts = path_parts[-1].split('.')\n",
    "        copy_counter = 0\n",
    "\n",
    "        for blur_radius in [3, 4, 5]:\n",
    "            copy = apply_blur(image, blur_radius)\n",
    "\n",
    "            copy.convert('RGB').save(os.path.join(blurring_augmentation_path, f'{name_parts[0]}_blurred_{copy_counter}.jpg'))\n",
    "\n",
    "            copy_counter += 1\n",
    "\n",
    "\n",
    "    for image_path in image_paths:\n",
    "        blur_worker(image_path)"
   ],
   "metadata": {
    "collapsed": false
   }
  },
  {
   "cell_type": "markdown",
   "source": [
    "<h3>Dirty lens</h3>"
   ],
   "metadata": {
    "collapsed": false
   }
  },
  {
   "cell_type": "code",
   "execution_count": 52,
   "outputs": [],
   "source": [
    "def apply_dirty_lens_effect(image: PIL.Image.Image) -> PIL.Image.Image:\n",
    "    dirty_lens = Image.new('RGBA', image.size, (0, 0, 0, 0))\n",
    "\n",
    "    draw = ImageDraw.Draw(dirty_lens)\n",
    "\n",
    "    for _ in range(5):\n",
    "        pos_x = random.randint(0, image.width)\n",
    "        pos_y = random.randint(0, image.height)\n",
    "        radius = random.randint(20, 60)\n",
    "        transparency = random.randint(50, 120)\n",
    "\n",
    "        draw.ellipse([(pos_x-radius, pos_y-radius), (pos_x+radius, pos_y+radius)], fill=(125, 105, 83, transparency))\n",
    "\n",
    "    dirty_image = Image.alpha_composite(image.convert('RGBA'), dirty_lens)\n",
    "\n",
    "    return dirty_image"
   ],
   "metadata": {
    "collapsed": false
   }
  },
  {
   "cell_type": "code",
   "execution_count": 53,
   "outputs": [],
   "source": [
    "dirty_lens_augmentation_path = os.path.join('..', '..', 'data', 'images_dirty_lens')\n",
    "\n",
    "if not os.path.exists(dirty_lens_augmentation_path):\n",
    "    os.makedirs(dirty_lens_augmentation_path)\n",
    "if directory_contains_files(dirty_lens_augmentation_path):\n",
    "    print(f'The directory {dirty_lens_augmentation_path} already has some images in it.')\n",
    "else:\n",
    "    def dirty_lens_worker(image_path: str) -> None:\n",
    "        image = Image.open(image_path).convert('RGBA')\n",
    "        path_parts = image_path.split(os.sep)\n",
    "        name_parts = path_parts[-1].split('.')\n",
    "        copy = apply_dirty_lens_effect(image)\n",
    "\n",
    "        copy.convert('RGB').save(os.path.join(dirty_lens_augmentation_path, f'{name_parts[0]}_dirtry_lens.jpg'))\n",
    "\n",
    "\n",
    "    for image_path in image_paths:\n",
    "        dirty_lens_worker(image_path)"
   ],
   "metadata": {
    "collapsed": false
   }
  },
  {
   "cell_type": "code",
   "execution_count": null,
   "outputs": [],
   "source": [],
   "metadata": {
    "collapsed": false
   }
  }
 ],
 "metadata": {
  "kernelspec": {
   "display_name": "Python 3",
   "language": "python",
   "name": "python3"
  },
  "language_info": {
   "codemirror_mode": {
    "name": "ipython",
    "version": 2
   },
   "file_extension": ".py",
   "mimetype": "text/x-python",
   "name": "python",
   "nbconvert_exporter": "python",
   "pygments_lexer": "ipython2",
   "version": "2.7.6"
  }
 },
 "nbformat": 4,
 "nbformat_minor": 0
}
