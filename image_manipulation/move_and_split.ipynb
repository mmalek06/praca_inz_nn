{
 "cells": [
  {
   "cell_type": "code",
   "execution_count": 1,
   "metadata": {
    "collapsed": true
   },
   "outputs": [],
   "source": [
    "import os\n",
    "import shutil\n",
    "import PIL.Image\n",
    "\n",
    "from collections import defaultdict\n",
    "from sklearn.model_selection import train_test_split"
   ]
  },
  {
   "cell_type": "code",
   "execution_count": 2,
   "outputs": [],
   "source": [
    "base_dir = os.path.join('..', '..', 'data')\n",
    "blurred = os.path.join(base_dir, 'images_blurred')\n",
    "dirty_lens = os.path.join(base_dir, 'images_dirty_lens')\n",
    "gradient_shadows = os.path.join(base_dir, 'images_gradient_shadows')\n",
    "rescaled = os.path.join(base_dir, 'images_original_inception_resnet_v2_200x150')\n",
    "target_training_folder = os.path.join(\n",
    "    base_dir,\n",
    "    'images_original_inception_resnet_v2_200x150_splitted_with_augmentation',\n",
    "    'training')\n",
    "target_validation_folder = os.path.join(\n",
    "    base_dir,\n",
    "    'images_original_inception_resnet_v2_200x150_splitted_with_augmentation',\n",
    "    'validation')\n",
    "get_paths = lambda path: [\n",
    "    f'{os.path.join(root, file)}'\n",
    "    for root, dirs, files in os.walk(path)\n",
    "    for file in files]"
   ],
   "metadata": {
    "collapsed": false
   }
  },
  {
   "cell_type": "code",
   "execution_count": 3,
   "outputs": [],
   "source": [
    "original_paths = get_paths(rescaled)\n",
    "train_files, valid_files = train_test_split(original_paths, test_size=0.1, random_state=57)\n",
    "\n",
    "train_files = list(map(lambda path: (\n",
    "    path,\n",
    "    os.path.join(target_training_folder, path.split(os.sep)[-1])),\n",
    "    train_files\n",
    "))\n",
    "valid_files = list(map(lambda path: (\n",
    "    path,\n",
    "    os.path.join(target_validation_folder, path.split(os.sep)[-1])),\n",
    "    valid_files\n",
    "))"
   ],
   "metadata": {
    "collapsed": false
   }
  },
  {
   "cell_type": "code",
   "execution_count": 4,
   "outputs": [],
   "source": [
    "if not len(os.listdir(target_training_folder)):\n",
    "    for source, destination in train_files + valid_files:\n",
    "        shutil.copy(source, destination)"
   ],
   "metadata": {
    "collapsed": false
   }
  },
  {
   "cell_type": "code",
   "execution_count": 5,
   "outputs": [],
   "source": [
    "SMALLER_WIDTH = 600 // 3\n",
    "SMALLER_HEIGHT = 450 // 3\n",
    "\n",
    "\n",
    "def match_and_copy_augmented(sources: list[str], all_files: list[str]) -> None:\n",
    "    name_counters = defaultdict(lambda: 0)\n",
    "    get_name = lambda x: x.split(os.sep)[-1].split('.')[0]\n",
    "\n",
    "    for source in sources:\n",
    "        source_name = get_name(source)\n",
    "\n",
    "        for file_path in all_files:\n",
    "            augmented_name = get_name(file_path)\n",
    "\n",
    "            if augmented_name.startswith(source_name):\n",
    "                count = name_counters[source_name]\n",
    "                destination = os.path.join(\n",
    "                    os.sep.join(source.split(os.sep)[:-1]),\n",
    "                    f'{source_name}_{count}.jpg')\n",
    "                name_counters[source_name] += 1\n",
    "\n",
    "                shutil.copy(file_path, destination)\n",
    "\n",
    "                image = PIL.Image.open(destination)\n",
    "                smaller_image = image.resize((SMALLER_WIDTH, SMALLER_HEIGHT))\n",
    "\n",
    "                smaller_image.save(destination)"
   ],
   "metadata": {
    "collapsed": false
   }
  },
  {
   "cell_type": "code",
   "execution_count": 6,
   "outputs": [],
   "source": [
    "augmentation_paths = \\\n",
    "    get_paths(blurred) + \\\n",
    "    get_paths(dirty_lens) + \\\n",
    "    get_paths(gradient_shadows)\n",
    "\n",
    "match_and_copy_augmented(get_paths(target_training_folder), augmentation_paths)\n",
    "match_and_copy_augmented(get_paths(target_validation_folder), augmentation_paths)"
   ],
   "metadata": {
    "collapsed": false
   }
  },
  {
   "cell_type": "code",
   "execution_count": null,
   "outputs": [],
   "source": [],
   "metadata": {
    "collapsed": false
   }
  }
 ],
 "metadata": {
  "kernelspec": {
   "display_name": "Python 3",
   "language": "python",
   "name": "python3"
  },
  "language_info": {
   "codemirror_mode": {
    "name": "ipython",
    "version": 2
   },
   "file_extension": ".py",
   "mimetype": "text/x-python",
   "name": "python",
   "nbconvert_exporter": "python",
   "pygments_lexer": "ipython2",
   "version": "2.7.6"
  }
 },
 "nbformat": 4,
 "nbformat_minor": 0
}
