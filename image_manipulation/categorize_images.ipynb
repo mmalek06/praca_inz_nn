{
 "cells": [
  {
   "cell_type": "code",
   "execution_count": 3,
   "metadata": {
    "collapsed": true
   },
   "outputs": [],
   "source": [
    "import os\n",
    "import shutil\n",
    "import pandas as pd"
   ]
  },
  {
   "cell_type": "markdown",
   "source": [
    "The IMAGES_FOLDER constant should be changed to load different set of images, as well as the TARGET_DATA_FOLDER const."
   ],
   "metadata": {
    "collapsed": false
   }
  },
  {
   "cell_type": "code",
   "execution_count": 7,
   "outputs": [],
   "source": [
    "IMAGES_FOLDER = 'images_original_inception_resnet_v2_200x150' #'images_original'\n",
    "TARGET_DATA_FOLDER = 'images_original_inception_resnet_v2_200x150_categorized'\n",
    "metadata_path = os.path.join('..', '..', 'data', 'HAM10000_metadata.csv')\n",
    "images_path = os.path.join('..', '..', 'data', IMAGES_FOLDER)\n",
    "baseline_data_path = os.path.join('..', '..', 'data', TARGET_DATA_FOLDER)\n",
    "metadata_frame = pd.read_csv(metadata_path)[['image_id', 'dx']]"
   ],
   "metadata": {
    "collapsed": false
   }
  },
  {
   "cell_type": "code",
   "execution_count": 8,
   "outputs": [],
   "source": [
    "def stratified_split(df: pd.DataFrame, test_size=0.2):\n",
    "    groups = df.groupby('dx')\n",
    "    train_dfs = []\n",
    "    valid_dfs = []\n",
    "\n",
    "    for _, group in groups:\n",
    "        valid_size = int(len(group) * test_size)\n",
    "        valid_size = max(valid_size, 1)\n",
    "        valid_df = group.sample(n=valid_size)\n",
    "        train_df = group.drop(valid_df.index)\n",
    "\n",
    "        train_dfs.append(train_df)\n",
    "        valid_dfs.append(valid_df)\n",
    "\n",
    "    train_df = pd.concat(train_dfs)\n",
    "    valid_df = pd.concat(valid_dfs)\n",
    "\n",
    "    return train_df, valid_df"
   ],
   "metadata": {
    "collapsed": false
   }
  },
  {
   "cell_type": "code",
   "execution_count": 9,
   "outputs": [],
   "source": [
    "train_frame, valid_frame = stratified_split(metadata_frame)"
   ],
   "metadata": {
    "collapsed": false
   }
  },
  {
   "cell_type": "code",
   "execution_count": 10,
   "outputs": [],
   "source": [
    "get_paths = lambda path: [f'{root}/{file}' for root, dirs, files in os.walk(path) for file in files]\n",
    "image_paths = get_paths(images_path)"
   ],
   "metadata": {
    "collapsed": false
   }
  },
  {
   "cell_type": "code",
   "execution_count": 13,
   "outputs": [],
   "source": [
    "def categorize_files(_type: str, frame: pd.DataFrame) -> None:\n",
    "    def create_dir_if_not_exists(check_path: str):\n",
    "        if not os.path.exists(check_path):\n",
    "            try:\n",
    "                os.makedirs(check_path)\n",
    "            except OSError as error:\n",
    "                print(f'Creation of directory {check_path} failed. Error: {error}')\n",
    "\n",
    "\n",
    "    type_path = os.path.join('..', '..', 'data', TARGET_DATA_FOLDER, _type)\n",
    "\n",
    "    for _, row in frame.iterrows():\n",
    "        category = row['dx']\n",
    "        image_name = row['image_id']\n",
    "        category_path = os.path.join(type_path, category)\n",
    "        orig_image_path = os.path.join(images_path, f'{image_name}.jpg')\n",
    "        new_image_path = os.path.join(category_path, f'{image_name}.jpg')\n",
    "\n",
    "        create_dir_if_not_exists(category_path)\n",
    "        shutil.copy(orig_image_path, new_image_path)"
   ],
   "metadata": {
    "collapsed": false
   }
  },
  {
   "cell_type": "code",
   "execution_count": 14,
   "outputs": [],
   "source": [
    "categorize_files('training', train_frame)\n",
    "categorize_files('validation', valid_frame)"
   ],
   "metadata": {
    "collapsed": false
   }
  },
  {
   "cell_type": "code",
   "execution_count": null,
   "outputs": [],
   "source": [],
   "metadata": {
    "collapsed": false
   }
  }
 ],
 "metadata": {
  "kernelspec": {
   "display_name": "Python 3",
   "language": "python",
   "name": "python3"
  },
  "language_info": {
   "codemirror_mode": {
    "name": "ipython",
    "version": 2
   },
   "file_extension": ".py",
   "mimetype": "text/x-python",
   "name": "python",
   "nbconvert_exporter": "python",
   "pygments_lexer": "ipython2",
   "version": "2.7.6"
  }
 },
 "nbformat": 4,
 "nbformat_minor": 0
}
