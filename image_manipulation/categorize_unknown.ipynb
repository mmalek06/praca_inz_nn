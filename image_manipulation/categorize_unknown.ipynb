{
 "cells": [
  {
   "cell_type": "code",
   "execution_count": 1,
   "metadata": {
    "collapsed": true
   },
   "outputs": [],
   "source": [
    "import os\n",
    "\n",
    "import pandas as pd\n",
    "\n",
    "from functions.csv import stratified_split\n",
    "from functions.categorizing import categorize_files"
   ]
  },
  {
   "cell_type": "code",
   "execution_count": 2,
   "outputs": [
    {
     "name": "stdout",
     "output_type": "stream",
     "text": [
      "BCC    845\n",
      "ACK    730\n",
      "NEV    244\n",
      "SEK    235\n",
      "SCC    192\n",
      "MEL     52\n",
      "Name: diagnostic, dtype: int64\n"
     ]
    }
   ],
   "source": [
    "TARGET_DATA_FOLDER = 'imgs_150x150_categorized'\n",
    "base_dir = os.path.join('..', '..', 'data3')\n",
    "images_path = os.path.join(base_dir, 'imgs_150x150')\n",
    "csv_path = os.path.join(base_dir, 'metadata.csv')\n",
    "metadata = pd.read_csv(csv_path)[['img_id', 'diagnostic']]\n",
    "\n",
    "print(metadata['diagnostic'].value_counts())"
   ],
   "metadata": {
    "collapsed": false
   }
  },
  {
   "cell_type": "code",
   "execution_count": 3,
   "outputs": [],
   "source": [
    "metadata.loc[metadata['diagnostic'] == 'BCC', 'diagnostic'] = 'bcc'\n",
    "metadata.loc[metadata['diagnostic'] == 'ACK', 'diagnostic'] = 'akiec'\n",
    "metadata.loc[metadata['diagnostic'] == 'NEV', 'diagnostic'] = 'nv'\n",
    "metadata.loc[metadata['diagnostic'] == 'SEK', 'diagnostic'] = 'sek'\n",
    "metadata.loc[metadata['diagnostic'] == 'SCC', 'diagnostic'] = 'scc'\n",
    "metadata.loc[metadata['diagnostic'] == 'MEL', 'diagnostic'] = 'mel'\n",
    "train_frame, valid_frame = stratified_split(metadata, 'diagnostic')"
   ],
   "metadata": {
    "collapsed": false
   }
  },
  {
   "cell_type": "code",
   "execution_count": 4,
   "outputs": [],
   "source": [
    "get_paths = lambda path: [f'{root}/{file}' for root, dirs, files in os.walk(path) for file in files]\n",
    "image_paths = get_paths(images_path)"
   ],
   "metadata": {
    "collapsed": false
   }
  },
  {
   "cell_type": "code",
   "execution_count": 5,
   "outputs": [],
   "source": [
    "categorize_files(\n",
    "    train_frame,\n",
    "    os.path.join('..', '..', 'data3', TARGET_DATA_FOLDER, 'training'),\n",
    "    images_path,\n",
    "    'diagnostic',\n",
    "    'img_id',\n",
    "    False)\n",
    "categorize_files(\n",
    "    valid_frame,\n",
    "    os.path.join('..', '..', 'data3', TARGET_DATA_FOLDER, 'validation'),\n",
    "    images_path,\n",
    "    'diagnostic',\n",
    "    'img_id',\n",
    "    False)"
   ],
   "metadata": {
    "collapsed": false
   }
  },
  {
   "cell_type": "code",
   "execution_count": null,
   "outputs": [],
   "source": [],
   "metadata": {
    "collapsed": false
   }
  }
 ],
 "metadata": {
  "kernelspec": {
   "display_name": "Python 3",
   "language": "python",
   "name": "python3"
  },
  "language_info": {
   "codemirror_mode": {
    "name": "ipython",
    "version": 2
   },
   "file_extension": ".py",
   "mimetype": "text/x-python",
   "name": "python",
   "nbconvert_exporter": "python",
   "pygments_lexer": "ipython2",
   "version": "2.7.6"
  }
 },
 "nbformat": 4,
 "nbformat_minor": 0
}
