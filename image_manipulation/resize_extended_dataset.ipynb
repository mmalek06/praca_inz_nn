{
 "cells": [
  {
   "cell_type": "code",
   "execution_count": 1,
   "metadata": {
    "collapsed": true
   },
   "outputs": [],
   "source": [
    "import os\n",
    "import shutil\n",
    "import PIL.Image\n",
    "\n",
    "# first try used the below, second try will use even smaller images\n",
    "# from functions.loading_data import SMALLER_HEIGHT, SMALLER_WIDTH\n",
    "SMALLER_HEIGHT = 450 // 6\n",
    "SMALLER_WIDTH = 600 // 6"
   ]
  },
  {
   "cell_type": "code",
   "execution_count": 2,
   "outputs": [],
   "source": [
    "get_names = lambda root_path: [\n",
    "    file_name.split('.')[0]\n",
    "    for dir_path, _, file_names in os.walk(root_path)\n",
    "    for file_name in file_names\n",
    "]\n",
    "get_paths = lambda path: [f'{os.path.join(root, file)}' for root, dirs, files in os.walk(path) for file in files]\n",
    "base_dir = os.path.join('..', '..', 'data2')\n",
    "_dir = os.path.join(base_dir, 'archive', 'ISIC_2019_Training_Input')\n",
    "# extended_dir = os.path.join(base_dir, 'extended')\n",
    "extended_dir = os.path.join(base_dir, 'extended_75x100')"
   ],
   "metadata": {
    "collapsed": false
   }
  },
  {
   "cell_type": "code",
   "execution_count": 3,
   "outputs": [],
   "source": [
    "if not os.path.exists(extended_dir):\n",
    "    PARTITION_SIZE = 5000\n",
    "    files = os.listdir(_dir)\n",
    "    jpg_files = [f for f in files if f.endswith('.jpg') or f.endswith('.jpeg')]\n",
    "    current_partition = 0\n",
    "\n",
    "    for idx in range(len(jpg_files)):\n",
    "        if idx % PARTITION_SIZE == 0:\n",
    "            current_partition += 1\n",
    "\n",
    "        src = os.path.join(_dir, jpg_files[idx])\n",
    "        partition_dir = os.path.join(extended_dir, f'partition_{current_partition}')\n",
    "\n",
    "        if not os.path.exists(partition_dir):\n",
    "            os.makedirs(partition_dir)\n",
    "\n",
    "        dest = os.path.join(partition_dir, jpg_files[idx])\n",
    "\n",
    "        shutil.copy(src, dest)"
   ],
   "metadata": {
    "collapsed": false
   }
  },
  {
   "cell_type": "code",
   "execution_count": 4,
   "outputs": [],
   "source": [
    "def resize_image(input_image_path, output_image_path, size):\n",
    "    original_image = PIL.Image.open(input_image_path)\n",
    "    width, height = original_image.size\n",
    "    aspect_ratio = width / height\n",
    "\n",
    "    if width > height:\n",
    "        new_width = size[0]\n",
    "        new_height = int(new_width / aspect_ratio)\n",
    "\n",
    "        if new_height > size[1]:\n",
    "            new_height = size[1]\n",
    "            new_width = int(new_height * aspect_ratio)\n",
    "    else:\n",
    "        new_height = size[1]\n",
    "        new_width = int(new_height * aspect_ratio)\n",
    "\n",
    "        if new_width > size[0]:\n",
    "            new_width = size[0]\n",
    "            new_height = int(new_width / aspect_ratio)\n",
    "\n",
    "    resized_img = original_image.resize((new_width, new_height))\n",
    "    new_image = PIL.Image.new('RGB', size, 'black')\n",
    "\n",
    "    new_image.paste(resized_img, ((size[0] - new_width) // 2,\n",
    "                                  (size[1] - new_height) // 2))\n",
    "    new_image.save(output_image_path)"
   ],
   "metadata": {
    "collapsed": false
   }
  },
  {
   "cell_type": "code",
   "execution_count": 5,
   "outputs": [],
   "source": [
    "dirs = os.listdir(extended_dir)"
   ],
   "metadata": {
    "collapsed": false
   }
  },
  {
   "cell_type": "code",
   "execution_count": 6,
   "outputs": [],
   "source": [
    "size = (SMALLER_WIDTH, SMALLER_HEIGHT)\n",
    "# extended_and_resized = os.path.join(base_dir, 'extended_and_resized')\n",
    "extended_and_resized = os.path.join(base_dir, 'extended_and_resized_75x100')\n",
    "\n",
    "if not os.path.exists(extended_and_resized):\n",
    "    os.makedirs(extended_and_resized)\n",
    "\n",
    "for directory in dirs:\n",
    "    full_path = os.path.join(extended_dir, directory)\n",
    "    resized = os.path.join(full_path, 'resized')\n",
    "\n",
    "    if not os.path.exists(resized):\n",
    "        os.makedirs(resized)\n",
    "\n",
    "    for file_name in os.listdir(full_path):\n",
    "        if file_name.endswith('.jpg') or file_name.endswith('.png'):\n",
    "            input_image_path = os.path.join(full_path, file_name)\n",
    "            output_image_path = os.path.join(extended_and_resized, file_name)\n",
    "\n",
    "            resize_image(input_image_path, output_image_path, size)"
   ],
   "metadata": {
    "collapsed": false
   }
  },
  {
   "cell_type": "code",
   "execution_count": null,
   "outputs": [],
   "source": [],
   "metadata": {
    "collapsed": false
   }
  }
 ],
 "metadata": {
  "kernelspec": {
   "display_name": "Python 3",
   "language": "python",
   "name": "python3"
  },
  "language_info": {
   "codemirror_mode": {
    "name": "ipython",
    "version": 2
   },
   "file_extension": ".py",
   "mimetype": "text/x-python",
   "name": "python",
   "nbconvert_exporter": "python",
   "pygments_lexer": "ipython2",
   "version": "2.7.6"
  }
 },
 "nbformat": 4,
 "nbformat_minor": 0
}
