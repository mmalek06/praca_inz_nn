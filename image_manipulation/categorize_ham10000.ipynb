{
 "cells": [
  {
   "cell_type": "code",
   "execution_count": 6,
   "metadata": {
    "collapsed": true
   },
   "outputs": [],
   "source": [
    "import os\n",
    "import pandas as pd\n",
    "\n",
    "from functions.csv import stratified_split\n",
    "from functions.categorizing import categorize_files"
   ]
  },
  {
   "cell_type": "markdown",
   "source": [
    "The IMAGES_FOLDER constant should be changed to load different set of images, as well as the TARGET_DATA_FOLDER const."
   ],
   "metadata": {
    "collapsed": false
   }
  },
  {
   "cell_type": "code",
   "execution_count": 7,
   "outputs": [],
   "source": [
    "IMAGES_FOLDER = 'images_original_inception_resnet_v2_150x150' #'images_original'\n",
    "TARGET_DATA_FOLDER = 'images_original_inception_resnet_v2_150x150_categorized'\n",
    "metadata_path = os.path.join('..', '..', 'data1', 'HAM10000_metadata.csv')\n",
    "images_path = os.path.join('..', '..', 'data1', IMAGES_FOLDER)\n",
    "baseline_data_path = os.path.join('..', '..', 'data1', TARGET_DATA_FOLDER)\n",
    "metadata_frame = pd.read_csv(metadata_path)[['image_id', 'dx']]"
   ],
   "metadata": {
    "collapsed": false
   }
  },
  {
   "cell_type": "code",
   "execution_count": 8,
   "outputs": [],
   "source": [
    "train_frame, valid_frame = stratified_split(metadata_frame, 'dx')"
   ],
   "metadata": {
    "collapsed": false
   }
  },
  {
   "cell_type": "code",
   "execution_count": 9,
   "outputs": [],
   "source": [
    "get_paths = lambda path: [f'{root}/{file}' for root, dirs, files in os.walk(path) for file in files]\n",
    "image_paths = get_paths(images_path)"
   ],
   "metadata": {
    "collapsed": false
   }
  },
  {
   "cell_type": "code",
   "execution_count": 10,
   "outputs": [],
   "source": [
    "categorize_files(\n",
    "    train_frame,\n",
    "    os.path.join('..', '..', 'data1', TARGET_DATA_FOLDER, 'training'),\n",
    "    images_path,\n",
    "    'dx',\n",
    "    'image_id')\n",
    "categorize_files(\n",
    "    valid_frame,\n",
    "    os.path.join('..', '..', 'data1', TARGET_DATA_FOLDER, 'validation'),\n",
    "    images_path,\n",
    "    'dx',\n",
    "    'image_id')"
   ],
   "metadata": {
    "collapsed": false
   }
  },
  {
   "cell_type": "code",
   "execution_count": null,
   "outputs": [],
   "source": [],
   "metadata": {
    "collapsed": false
   }
  }
 ],
 "metadata": {
  "kernelspec": {
   "display_name": "Python 3",
   "language": "python",
   "name": "python3"
  },
  "language_info": {
   "codemirror_mode": {
    "name": "ipython",
    "version": 2
   },
   "file_extension": ".py",
   "mimetype": "text/x-python",
   "name": "python",
   "nbconvert_exporter": "python",
   "pygments_lexer": "ipython2",
   "version": "2.7.6"
  }
 },
 "nbformat": 4,
 "nbformat_minor": 0
}
