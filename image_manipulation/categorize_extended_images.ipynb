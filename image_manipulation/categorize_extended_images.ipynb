{
 "cells": [
  {
   "cell_type": "code",
   "execution_count": 26,
   "metadata": {
    "collapsed": true
   },
   "outputs": [],
   "source": [
    "import os\n",
    "import shutil\n",
    "\n",
    "import pandas as pd\n",
    "\n",
    "from sklearn.model_selection import train_test_split"
   ]
  },
  {
   "cell_type": "code",
   "execution_count": 33,
   "outputs": [
    {
     "name": "stdout",
     "output_type": "stream",
     "text": [
      "{'MEL': 4522, 'NV': 12875, 'BCC': 3323, 'AK': 867, 'BKL': 2624, 'DF': 239, 'VASC': 253, 'SCC': 628, 'UNK': 0}\n"
     ]
    }
   ],
   "source": [
    "base_dir = os.path.join('..', '..', 'data2')\n",
    "csv_path = os.path.join(base_dir, 'archive', 'ISIC_2019_Training_GroundTruth.csv')\n",
    "metadata = pd.read_csv(csv_path)\n",
    "category_counts = {category: 0 for category in metadata.columns if category != 'image'}\n",
    "\n",
    "for i, row in metadata.iterrows():\n",
    "    for category in category_counts.keys():\n",
    "        if row[category] == 1.0:\n",
    "            category_counts[category] += 1\n",
    "\n",
    "print(category_counts)"
   ],
   "metadata": {
    "collapsed": false
   }
  },
  {
   "cell_type": "markdown",
   "source": [
    "The UNK category is empty, so let's drop the column altogether"
   ],
   "metadata": {
    "collapsed": false
   }
  },
  {
   "cell_type": "code",
   "execution_count": 34,
   "outputs": [],
   "source": [
    "metadata = metadata[['image', 'MEL', 'NV', 'BCC', 'AK', 'BKL', 'DF', 'VASC', 'SCC']]\n",
    "metadata = metadata.rename(columns={\n",
    "    'MEL': 'mel',\n",
    "    'NV': 'nv',\n",
    "    'BCC': 'bcc',\n",
    "    'AK': 'akiec',\n",
    "    'BKL': 'bkl',\n",
    "    'DF': 'df',\n",
    "    'VASC': 'vasc',\n",
    "    'SCC': 'scc'\n",
    "})\n",
    "\n",
    "metadata.to_csv(\n",
    "    os.path.join(\n",
    "        base_dir,\n",
    "        'archive',\n",
    "        'ISIC_2019_Training_GroundTruth_corrected.csv'),\n",
    "    index=False)"
   ],
   "metadata": {
    "collapsed": false
   }
  },
  {
   "cell_type": "code",
   "execution_count": 35,
   "outputs": [],
   "source": [
    "images_dir = os.path.join(base_dir, 'extended_and_resized')\n",
    "training_dir = os.path.join(\n",
    "    base_dir,\n",
    "    'images_original_inception_resnet_v2_200x150_categorized',\n",
    "    'training')\n",
    "test_dir = os.path.join(\n",
    "    base_dir,\n",
    "    'images_original_inception_resnet_v2_200x150_categorized',\n",
    "    'test')\n",
    "validation_dir = os.path.join(\n",
    "    base_dir,\n",
    "    'images_original_inception_resnet_v2_200x150_categorized',\n",
    "    'validation')\n",
    "get_paths = lambda path: [\n",
    "    f'{os.path.join(root, file)}'\n",
    "    for root, dirs, files in os.walk(path)\n",
    "    for file in files]\n",
    "get_name = lambda path: path.split(os.sep)[-1]\n",
    "original_paths = get_paths(images_dir)\n",
    "train_files, test_files = train_test_split(original_paths, test_size=0.15, random_state=57)\n",
    "train_files, valid_files = train_test_split(train_files, test_size=.2, random_state=123)"
   ],
   "metadata": {
    "collapsed": false
   }
  },
  {
   "cell_type": "code",
   "execution_count": 36,
   "outputs": [],
   "source": [
    "metadata.set_index('image', inplace=True)\n",
    "\n",
    "\n",
    "def categorize(target_dir: str, files: list[str]) -> None:\n",
    "    for path in files:\n",
    "        full_name = get_name(path)\n",
    "        name = full_name.split('.')[-2]\n",
    "        categories = metadata.loc[name]\n",
    "        category = categories.idxmax()\n",
    "        directory = os.path.join(target_dir, category)\n",
    "\n",
    "        if not os.path.exists(directory):\n",
    "            os.makedirs(directory)\n",
    "\n",
    "        im_path = os.path.join(directory, full_name)\n",
    "\n",
    "        shutil.copy(path, im_path)"
   ],
   "metadata": {
    "collapsed": false
   }
  },
  {
   "cell_type": "code",
   "execution_count": 37,
   "outputs": [],
   "source": [
    "categorize(training_dir, train_files)\n",
    "categorize(validation_dir, valid_files)\n",
    "categorize(test_dir, test_files)"
   ],
   "metadata": {
    "collapsed": false
   }
  }
 ],
 "metadata": {
  "kernelspec": {
   "display_name": "Python 3",
   "language": "python",
   "name": "python3"
  },
  "language_info": {
   "codemirror_mode": {
    "name": "ipython",
    "version": 2
   },
   "file_extension": ".py",
   "mimetype": "text/x-python",
   "name": "python",
   "nbconvert_exporter": "python",
   "pygments_lexer": "ipython2",
   "version": "2.7.6"
  }
 },
 "nbformat": 4,
 "nbformat_minor": 0
}
