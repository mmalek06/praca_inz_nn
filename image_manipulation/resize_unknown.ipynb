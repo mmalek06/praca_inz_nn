{
 "cells": [
  {
   "cell_type": "markdown",
   "source": [
    "This is the resizing algorithm for images downloaded from https://prod-dcd-datasets-cache-zipfiles.s3.eu-west-1.amazonaws.com/zr7vgbcyr2-1.zip"
   ],
   "metadata": {
    "collapsed": false
   }
  },
  {
   "cell_type": "code",
   "execution_count": 1,
   "metadata": {
    "collapsed": true
   },
   "outputs": [],
   "source": [
    "import os\n",
    "\n",
    "from functions.resizing import resize_image\n",
    "\n",
    "SMALLER_HEIGHT = 150\n",
    "SMALLER_WIDTH = 150"
   ]
  },
  {
   "cell_type": "code",
   "execution_count": 2,
   "outputs": [],
   "source": [
    "get_names = lambda root_path: [\n",
    "    file_name.split('.')[0]\n",
    "    for dir_path, _, file_names in os.walk(root_path)\n",
    "    for file_name in file_names\n",
    "]\n",
    "get_paths = lambda path: [f'{os.path.join(root, file)}' for root, dirs, files in os.walk(path) for file in files]\n",
    "base_dir = os.path.join('..', '..', 'data3')\n",
    "source_dir = os.path.join(base_dir, 'imgs')\n",
    "target_dir_100x75 = os.path.join(base_dir, 'imgs_150x150')"
   ],
   "metadata": {
    "collapsed": false
   }
  },
  {
   "cell_type": "code",
   "execution_count": 3,
   "outputs": [],
   "source": [
    "size = (SMALLER_WIDTH, SMALLER_HEIGHT)\n",
    "\n",
    "if not os.path.exists(target_dir_100x75):\n",
    "    os.makedirs(target_dir_100x75)\n",
    "\n",
    "for file_name in os.listdir(source_dir):\n",
    "    if file_name.endswith('.jpg') or file_name.endswith('.png'):\n",
    "        input_image_path = os.path.join(source_dir, file_name)\n",
    "        output_image_path = os.path.join(target_dir_100x75, file_name)\n",
    "\n",
    "        resize_image(input_image_path, output_image_path, size)"
   ],
   "metadata": {
    "collapsed": false
   }
  },
  {
   "cell_type": "code",
   "execution_count": null,
   "outputs": [],
   "source": [],
   "metadata": {
    "collapsed": false
   }
  }
 ],
 "metadata": {
  "kernelspec": {
   "display_name": "Python 3",
   "language": "python",
   "name": "python3"
  },
  "language_info": {
   "codemirror_mode": {
    "name": "ipython",
    "version": 2
   },
   "file_extension": ".py",
   "mimetype": "text/x-python",
   "name": "python",
   "nbconvert_exporter": "python",
   "pygments_lexer": "ipython2",
   "version": "2.7.6"
  }
 },
 "nbformat": 4,
 "nbformat_minor": 0
}
