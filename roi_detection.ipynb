{
 "cells": [
  {
   "cell_type": "markdown",
   "source": [
    "<h3>This notebook contains training code of a neural network performing the \"Region of Interest\" (ROI) detection work. Its output will be used at later stages to preprocess images being fed to the actual classifier. ROI NN will detect bounding boxes surrounding lesions and another algorithm will crop the images so that the aspect ratio required by InceptionResNetV2 NN is used.</h3>"
   ],
   "metadata": {
    "collapsed": false
   }
  },
  {
   "cell_type": "code",
   "execution_count": 1,
   "metadata": {
    "collapsed": true
   },
   "outputs": [],
   "source": [
    "import os\n",
    "import absl.logging\n",
    "import PIL.Image\n",
    "\n",
    "import numpy as np\n",
    "import pandas as pd\n",
    "import tensorflow as tf\n",
    "import matplotlib.pyplot as plt\n",
    "\n",
    "from typing import Callable\n",
    "from tensorflow import keras\n",
    "\n",
    "absl.logging.set_verbosity(absl.logging.ERROR)"
   ]
  },
  {
   "cell_type": "code",
   "execution_count": 2,
   "outputs": [],
   "source": [
    "get_names = lambda root_path: [\n",
    "    file_name.split('.')[0]\n",
    "    for dir_path, _, file_names in os.walk(root_path)\n",
    "    for file_name in file_names\n",
    "]\n",
    "get_paths = lambda path: [f'{os.path.join(root, file)}' for root, dirs, files in os.walk(path) for file in files]\n",
    "base_dir = os.path.join('..', 'data', 'images_original_inception_resnet_v2_200x150_splitted')\n",
    "train_dir = os.path.join(base_dir, 'training')\n",
    "valid_dir = os.path.join(base_dir, 'validation')"
   ],
   "metadata": {
    "collapsed": false
   }
  },
  {
   "cell_type": "code",
   "execution_count": null,
   "outputs": [],
   "source": [
    "def get_images_array(paths: list[str]) -> np.ndarray:\n",
    "    rows = []\n",
    "    rescale = keras.layers.Rescaling(1./255)\n",
    "\n",
    "    for path in paths:\n",
    "        with PIL.Image.open(path) as image:\n",
    "            image_array = np.asarray(image)\n",
    "            rescaled_image = rescale(image_array)\n",
    "            rows.append(rescaled_image)\n",
    "\n",
    "    return np.array(rows)\n",
    "\n",
    "\n",
    "train_paths = get_paths(train_dir)\n",
    "valid_paths = get_paths(valid_dir)\n",
    "X_train = get_images_array(train_paths)\n",
    "X_valid = get_images_array(valid_paths)"
   ],
   "metadata": {
    "collapsed": false,
    "pycharm": {
     "is_executing": true
    }
   }
  },
  {
   "cell_type": "code",
   "execution_count": null,
   "outputs": [],
   "source": [
    "SMALLER_WIDTH = 600 // 3\n",
    "SMALLER_HEIGHT = 450 // 3"
   ],
   "metadata": {
    "collapsed": false,
    "pycharm": {
     "is_executing": true
    }
   }
  },
  {
   "cell_type": "code",
   "execution_count": null,
   "outputs": [],
   "source": [
    "train_names = set(get_names(train_dir))\n",
    "valid_names = set(get_names(valid_dir))\n",
    "metadata_path = os.path.join('..', 'data', 'HAM10000_metadata_ext.csv')\n",
    "data = pd.read_csv(metadata_path).sort_values(by='image_id')\n",
    "relevant_cols = ['top', 'left', 'bottom', 'right']\n",
    "train_df = data[data['image_id'].isin(train_names)][relevant_cols]\n",
    "valid_df = data[data['image_id'].isin(valid_names)][relevant_cols]\n",
    "ys_train = train_df.to_numpy().astype(float)\n",
    "ys_train[:, [0, 2]] /= SMALLER_HEIGHT\n",
    "ys_train[:, [1, 3]] /= SMALLER_WIDTH\n",
    "ys_valid = valid_df.to_numpy().astype(float)\n",
    "ys_valid[:, [0, 2]] /= SMALLER_HEIGHT\n",
    "ys_valid[:, [1, 3]] /= SMALLER_WIDTH"
   ],
   "metadata": {
    "collapsed": false,
    "pycharm": {
     "is_executing": true
    }
   }
  },
  {
   "cell_type": "markdown",
   "source": [
    "Using simple IoU loss made the model get stuck - it wasn't getting any better or worse. Using CIoU makes the model start from a worse starting point but it's learning. Let's see how it does after 1000 epochs.\n",
    "\n",
    "Implementation idea: [Medium article](https://medium.com/analytics-vidhya/different-iou-losses-for-faster-and-accurate-object-detection-3345781e0bf)\n",
    "*IoU formulas and more: [Researchgate article](https://www.researchgate.net/figure/CIoU-calculation-conceptualized-The-classification-function-L-cls-only-penalizes-if_fig5_355427005)"
   ],
   "metadata": {
    "collapsed": false
   }
  },
  {
   "cell_type": "code",
   "execution_count": null,
   "outputs": [],
   "source": [
    "def ciou_loss(y_true: tf.Tensor, y_pred: tf.Tensor) -> tf.Tensor:\n",
    "    \"\"\"\n",
    "    Parameters:\n",
    "    y_true -- ground truth bounding box, tensor of shape (?, 4), [xmin, ymin, xmax, ymax]\n",
    "    y_pred -- predicted bounding box, tensor of shape (?, 4)\n",
    "\n",
    "    Returns:\n",
    "    ciou_loss -- scalar loss, tensor of shape ()\n",
    "    \"\"\"\n",
    "    epsilon = 1e-3\n",
    "    true_y1, true_x1, true_y2, true_x2 = tf.split(y_true, 4, axis = -1)\n",
    "    pred_y1, pred_x1, pred_y2, pred_x2 = tf.split(y_pred, 4, axis = -1)\n",
    "    # intersection calculation:\n",
    "    # take leftmost x coord and rightmost x coord, subtract to get the width and constraint with\n",
    "    # 0 to avoid negative values, do the same with ys\n",
    "    intersect_w = tf.maximum(0.0, tf.minimum(true_x2, pred_x2) - tf.maximum(true_x1, pred_x1))\n",
    "    intersect_h = tf.maximum(0.0, tf.minimum(true_y2, pred_y2) - tf.maximum(true_y1, pred_y1))\n",
    "    # calculate area\n",
    "    intersection = intersect_w * intersect_h\n",
    "    # calculate areas of the predicted and actual bounding box\n",
    "    # then calculate the union\n",
    "    true_area = (true_x2 - true_x1) * (true_y2 - true_y1)\n",
    "    pred_area = (pred_x2 - pred_x1) * (pred_y2 - pred_y1)\n",
    "    union = true_area + pred_area - intersection\n",
    "    # IoU calculation\n",
    "    iou = intersection / (union + epsilon)  # Adding epsilon to avoid division by zero\n",
    "    # distance between the box centers\n",
    "    true_center_x = (true_x1 + true_x2) / 2\n",
    "    true_center_y = (true_y1 + true_y2) / 2\n",
    "    pred_center_x = (pred_x1 + pred_x2) / 2\n",
    "    pred_center_y = (pred_y1 + pred_y2) / 2\n",
    "    # from pythagorean theorem - calculate euclidean distance a^2 + b^2 = c^2\n",
    "    # here the distance is still in the square units, because it doesn't matter in this\n",
    "    # context since if z1 < z2 then sqrt(z1) < sqrt(z2)\n",
    "    # we can save some (very little) computation time by omitting the root calculation\n",
    "    center_distance = tf.square(true_center_x - pred_center_x) + tf.square(true_center_y - pred_center_y)\n",
    "    # enclosing box\n",
    "    enclose_x1 = tf.minimum(true_x1, pred_x1)\n",
    "    enclose_y1 = tf.minimum(true_y1, pred_y1)\n",
    "    enclose_x2 = tf.maximum(true_x2, pred_x2)\n",
    "    enclose_y2 = tf.maximum(true_y2, pred_y2)\n",
    "    enclose_w = enclose_x2 - enclose_x1\n",
    "    enclose_h = enclose_y2 - enclose_y1\n",
    "    # CIoU term\n",
    "    ciou_term = (1 - iou) + center_distance / (tf.square(enclose_w) + tf.square(enclose_h) + epsilon)\n",
    "\n",
    "    return tf.reduce_mean(ciou_term)\n",
    "\n",
    "\n",
    "def ciou_metric(y_true: tf.Tensor, y_pred: tf.Tensor) -> tf.Tensor:\n",
    "    ciou_term = ciou_loss(y_true, y_pred)\n",
    "\n",
    "    return 1.0 - tf.reduce_mean(ciou_term) # higher value is better"
   ],
   "metadata": {
    "collapsed": false,
    "pycharm": {
     "is_executing": true
    }
   }
  },
  {
   "cell_type": "markdown",
   "source": [
    "The below architecture managed to achieve ~85% CIoU score, which is quite nice, but I strive for a higher number. Also, for the most parts it was getting stuck in a local minimum, either on -16% CIoU or 37% CIoU. I tried different weights initialization, lower and higher starting learning rates, different optimizers, adding and removing layers and nothing worked, so I switched to a different architecture. Also, the best models built with this architecture are saved and pushed to the git repo."
   ],
   "metadata": {
    "collapsed": false
   }
  },
  {
   "cell_type": "code",
   "execution_count": null,
   "outputs": [],
   "source": [
    "def get_baseline_model(loss: Callable, metric: Callable) -> keras.Model:\n",
    "    def get_conv_module(prev: keras.layers.Layer, filters: int, kernel_size: int) -> keras.layers.Layer:\n",
    "        x = keras.layers.Conv2D(filters, kernel_size, padding='same', activation='relu')(prev)\n",
    "        x = keras.layers.Conv2D(filters * 2, kernel_size, padding='same', activation='relu')(x)\n",
    "        x = keras.layers.MaxPooling2D()(x)\n",
    "\n",
    "        return x\n",
    "\n",
    "\n",
    "    _input = keras.layers.Input(shape=(SMALLER_HEIGHT, SMALLER_WIDTH, 3))\n",
    "    conv_module = get_conv_module(_input, 16, 7)\n",
    "    conv_module = get_conv_module(conv_module, 32, 5)\n",
    "    conv_module = get_conv_module(conv_module, 64, 3)\n",
    "    conv_module = get_conv_module(conv_module, 128, 3)\n",
    "    conv_module = get_conv_module(conv_module, 256, 3)\n",
    "    conv_module = keras.layers.Flatten()(conv_module)\n",
    "    locator_module = keras.layers.Dense(128, activation='relu')(conv_module)\n",
    "    locator_module = keras.layers.Dense(4, activation='sigmoid')(locator_module)\n",
    "\n",
    "    model = keras.Model(_input, locator_module)\n",
    "\n",
    "    model.compile(optimizer='adam', loss=loss, metrics=[metric])\n",
    "\n",
    "    print(model.summary())\n",
    "\n",
    "    return model"
   ],
   "metadata": {
    "collapsed": false,
    "pycharm": {
     "is_executing": true
    }
   }
  },
  {
   "cell_type": "code",
   "execution_count": null,
   "outputs": [],
   "source": [
    "def run_model(model_factory, model_name: str, loss: Callable, metric: Callable):\n",
    "    MIN_DELTA = .001\n",
    "    early_stopping = keras.callbacks.EarlyStopping(\n",
    "        monitor='val_ciou_metric',\n",
    "        mode='max',\n",
    "        patience=20,\n",
    "        min_delta=MIN_DELTA)\n",
    "    reduce_lr = keras.callbacks.ReduceLROnPlateau(\n",
    "        monitor='val_ciou_metric',\n",
    "        mode='max',\n",
    "        factor=0.95,\n",
    "        min_delta=MIN_DELTA,\n",
    "        patience=5,\n",
    "        min_lr=0.0005,\n",
    "        verbose=1)\n",
    "    model_checkpoint = keras.callbacks.ModelCheckpoint(\n",
    "        filepath='models/' + model_name + '_{epoch}',\n",
    "        save_best_only=True)\n",
    "    tensor_board = keras.callbacks.TensorBoard(log_dir=f'tensor_logs/{model_name}')\n",
    "    model = model_factory(loss, metric)\n",
    "\n",
    "    return model.fit(\n",
    "        X_train,\n",
    "        ys_train,\n",
    "        validation_data=(X_valid, ys_valid),\n",
    "        epochs=500,\n",
    "        batch_size=64,\n",
    "        callbacks=[reduce_lr, model_checkpoint, tensor_board, early_stopping])"
   ],
   "metadata": {
    "collapsed": false,
    "pycharm": {
     "is_executing": true
    }
   }
  },
  {
   "cell_type": "markdown",
   "source": [
    "Using a custom model yields CIoU accuracy on a ~80% level which is unsatisfactory. Let's try inception model next."
   ],
   "metadata": {
    "collapsed": false
   }
  },
  {
   "cell_type": "code",
   "execution_count": 9,
   "outputs": [
    {
     "name": "stdout",
     "output_type": "stream",
     "text": [
      "Model: \"model\"\n",
      "_________________________________________________________________\n",
      " Layer (type)                Output Shape              Param #   \n",
      "=================================================================\n",
      " input_1 (InputLayer)        [(None, 150, 200, 3)]     0         \n",
      "                                                                 \n",
      " conv2d (Conv2D)             (None, 150, 200, 16)      2368      \n",
      "                                                                 \n",
      " conv2d_1 (Conv2D)           (None, 150, 200, 32)      25120     \n",
      "                                                                 \n",
      " max_pooling2d (MaxPooling2D  (None, 75, 100, 32)      0         \n",
      " )                                                               \n",
      "                                                                 \n",
      " conv2d_2 (Conv2D)           (None, 75, 100, 32)       25632     \n",
      "                                                                 \n",
      " conv2d_3 (Conv2D)           (None, 75, 100, 64)       51264     \n",
      "                                                                 \n",
      " max_pooling2d_1 (MaxPooling  (None, 37, 50, 64)       0         \n",
      " 2D)                                                             \n",
      "                                                                 \n",
      " conv2d_4 (Conv2D)           (None, 37, 50, 64)        36928     \n",
      "                                                                 \n",
      " conv2d_5 (Conv2D)           (None, 37, 50, 128)       73856     \n",
      "                                                                 \n",
      " max_pooling2d_2 (MaxPooling  (None, 18, 25, 128)      0         \n",
      " 2D)                                                             \n",
      "                                                                 \n",
      " conv2d_6 (Conv2D)           (None, 18, 25, 128)       147584    \n",
      "                                                                 \n",
      " conv2d_7 (Conv2D)           (None, 18, 25, 256)       295168    \n",
      "                                                                 \n",
      " max_pooling2d_3 (MaxPooling  (None, 9, 12, 256)       0         \n",
      " 2D)                                                             \n",
      "                                                                 \n",
      " conv2d_8 (Conv2D)           (None, 9, 12, 256)        590080    \n",
      "                                                                 \n",
      " conv2d_9 (Conv2D)           (None, 9, 12, 512)        1180160   \n",
      "                                                                 \n",
      " max_pooling2d_4 (MaxPooling  (None, 4, 6, 512)        0         \n",
      " 2D)                                                             \n",
      "                                                                 \n",
      " flatten (Flatten)           (None, 12288)             0         \n",
      "                                                                 \n",
      " dense (Dense)               (None, 128)               1572992   \n",
      "                                                                 \n",
      " dense_1 (Dense)             (None, 4)                 516       \n",
      "                                                                 \n",
      "=================================================================\n",
      "Total params: 4,001,668\n",
      "Trainable params: 4,001,668\n",
      "Non-trainable params: 0\n",
      "_________________________________________________________________\n",
      "None\n",
      "Epoch 1/500\n",
      "126/126 [==============================] - ETA: 0s - loss: 0.5138 - ciou_metric: 0.4869INFO:tensorflow:Assets written to: models\\roi_detection_iou_8_1\\assets\n"
     ]
    },
    {
     "name": "stderr",
     "output_type": "stream",
     "text": [
      "INFO:tensorflow:Assets written to: models\\roi_detection_iou_8_1\\assets\n"
     ]
    },
    {
     "name": "stdout",
     "output_type": "stream",
     "text": [
      "126/126 [==============================] - 42s 253ms/step - loss: 0.5138 - ciou_metric: 0.4869 - val_loss: 0.4242 - val_ciou_metric: 0.5743 - lr: 0.0010\n",
      "Epoch 2/500\n",
      "126/126 [==============================] - ETA: 0s - loss: 0.3478 - ciou_metric: 0.6523INFO:tensorflow:Assets written to: models\\roi_detection_iou_8_2\\assets\n"
     ]
    },
    {
     "name": "stderr",
     "output_type": "stream",
     "text": [
      "INFO:tensorflow:Assets written to: models\\roi_detection_iou_8_2\\assets\n"
     ]
    },
    {
     "name": "stdout",
     "output_type": "stream",
     "text": [
      "126/126 [==============================] - 29s 229ms/step - loss: 0.3478 - ciou_metric: 0.6523 - val_loss: 0.2837 - val_ciou_metric: 0.7171 - lr: 0.0010\n",
      "Epoch 3/500\n",
      "126/126 [==============================] - ETA: 0s - loss: 0.2560 - ciou_metric: 0.7439INFO:tensorflow:Assets written to: models\\roi_detection_iou_8_3\\assets\n"
     ]
    },
    {
     "name": "stderr",
     "output_type": "stream",
     "text": [
      "INFO:tensorflow:Assets written to: models\\roi_detection_iou_8_3\\assets\n"
     ]
    },
    {
     "name": "stdout",
     "output_type": "stream",
     "text": [
      "126/126 [==============================] - 29s 226ms/step - loss: 0.2560 - ciou_metric: 0.7439 - val_loss: 0.2263 - val_ciou_metric: 0.7742 - lr: 0.0010\n",
      "Epoch 4/500\n",
      "126/126 [==============================] - 27s 215ms/step - loss: 0.2229 - ciou_metric: 0.7772 - val_loss: 0.2423 - val_ciou_metric: 0.7583 - lr: 0.0010\n",
      "Epoch 5/500\n",
      "125/126 [============================>.] - ETA: 0s - loss: 0.2051 - ciou_metric: 0.7949INFO:tensorflow:Assets written to: models\\roi_detection_iou_8_5\\assets\n"
     ]
    },
    {
     "name": "stderr",
     "output_type": "stream",
     "text": [
      "INFO:tensorflow:Assets written to: models\\roi_detection_iou_8_5\\assets\n"
     ]
    },
    {
     "name": "stdout",
     "output_type": "stream",
     "text": [
      "126/126 [==============================] - 29s 228ms/step - loss: 0.2052 - ciou_metric: 0.7948 - val_loss: 0.2044 - val_ciou_metric: 0.7973 - lr: 0.0010\n",
      "Epoch 6/500\n",
      "126/126 [==============================] - ETA: 0s - loss: 0.1910 - ciou_metric: 0.8090INFO:tensorflow:Assets written to: models\\roi_detection_iou_8_6\\assets\n"
     ]
    },
    {
     "name": "stderr",
     "output_type": "stream",
     "text": [
      "INFO:tensorflow:Assets written to: models\\roi_detection_iou_8_6\\assets\n"
     ]
    },
    {
     "name": "stdout",
     "output_type": "stream",
     "text": [
      "126/126 [==============================] - 28s 226ms/step - loss: 0.1910 - ciou_metric: 0.8090 - val_loss: 0.1838 - val_ciou_metric: 0.8180 - lr: 0.0010\n",
      "Epoch 7/500\n",
      "126/126 [==============================] - 27s 214ms/step - loss: 0.1816 - ciou_metric: 0.8178 - val_loss: 0.1860 - val_ciou_metric: 0.8154 - lr: 0.0010\n",
      "Epoch 8/500\n",
      "126/126 [==============================] - ETA: 0s - loss: 0.1738 - ciou_metric: 0.8265INFO:tensorflow:Assets written to: models\\roi_detection_iou_8_8\\assets\n"
     ]
    },
    {
     "name": "stderr",
     "output_type": "stream",
     "text": [
      "INFO:tensorflow:Assets written to: models\\roi_detection_iou_8_8\\assets\n"
     ]
    },
    {
     "name": "stdout",
     "output_type": "stream",
     "text": [
      "126/126 [==============================] - 28s 226ms/step - loss: 0.1738 - ciou_metric: 0.8265 - val_loss: 0.1657 - val_ciou_metric: 0.8359 - lr: 0.0010\n",
      "Epoch 9/500\n",
      "126/126 [==============================] - 27s 213ms/step - loss: 0.1657 - ciou_metric: 0.8337 - val_loss: 0.1724 - val_ciou_metric: 0.8293 - lr: 0.0010\n",
      "Epoch 10/500\n",
      "126/126 [==============================] - 27s 213ms/step - loss: 0.1626 - ciou_metric: 0.8375 - val_loss: 0.1672 - val_ciou_metric: 0.8342 - lr: 0.0010\n",
      "Epoch 11/500\n",
      "126/126 [==============================] - 27s 213ms/step - loss: 0.1584 - ciou_metric: 0.8414 - val_loss: 0.1947 - val_ciou_metric: 0.8065 - lr: 0.0010\n",
      "Epoch 12/500\n",
      "126/126 [==============================] - ETA: 0s - loss: 0.1578 - ciou_metric: 0.8420INFO:tensorflow:Assets written to: models\\roi_detection_iou_8_12\\assets\n"
     ]
    },
    {
     "name": "stderr",
     "output_type": "stream",
     "text": [
      "INFO:tensorflow:Assets written to: models\\roi_detection_iou_8_12\\assets\n"
     ]
    },
    {
     "name": "stdout",
     "output_type": "stream",
     "text": [
      "126/126 [==============================] - 28s 224ms/step - loss: 0.1578 - ciou_metric: 0.8420 - val_loss: 0.1618 - val_ciou_metric: 0.8396 - lr: 0.0010\n",
      "Epoch 13/500\n",
      "125/126 [============================>.] - ETA: 0s - loss: 0.1516 - ciou_metric: 0.8484INFO:tensorflow:Assets written to: models\\roi_detection_iou_8_13\\assets\n"
     ]
    },
    {
     "name": "stderr",
     "output_type": "stream",
     "text": [
      "INFO:tensorflow:Assets written to: models\\roi_detection_iou_8_13\\assets\n"
     ]
    },
    {
     "name": "stdout",
     "output_type": "stream",
     "text": [
      "126/126 [==============================] - 29s 228ms/step - loss: 0.1515 - ciou_metric: 0.8485 - val_loss: 0.1582 - val_ciou_metric: 0.8431 - lr: 0.0010\n",
      "Epoch 14/500\n",
      "126/126 [==============================] - 27s 213ms/step - loss: 0.1477 - ciou_metric: 0.8522 - val_loss: 0.1646 - val_ciou_metric: 0.8366 - lr: 0.0010\n",
      "Epoch 15/500\n",
      "126/126 [==============================] - 27s 214ms/step - loss: 0.1463 - ciou_metric: 0.8537 - val_loss: 0.1635 - val_ciou_metric: 0.8378 - lr: 0.0010\n",
      "Epoch 16/500\n",
      "126/126 [==============================] - ETA: 0s - loss: 0.1419 - ciou_metric: 0.8581INFO:tensorflow:Assets written to: models\\roi_detection_iou_8_16\\assets\n"
     ]
    },
    {
     "name": "stderr",
     "output_type": "stream",
     "text": [
      "INFO:tensorflow:Assets written to: models\\roi_detection_iou_8_16\\assets\n"
     ]
    },
    {
     "name": "stdout",
     "output_type": "stream",
     "text": [
      "126/126 [==============================] - 29s 228ms/step - loss: 0.1419 - ciou_metric: 0.8581 - val_loss: 0.1528 - val_ciou_metric: 0.8486 - lr: 0.0010\n",
      "Epoch 17/500\n",
      "126/126 [==============================] - 27s 213ms/step - loss: 0.1387 - ciou_metric: 0.8610 - val_loss: 0.1653 - val_ciou_metric: 0.8356 - lr: 0.0010\n",
      "Epoch 18/500\n",
      "126/126 [==============================] - 27s 214ms/step - loss: 0.1355 - ciou_metric: 0.8646 - val_loss: 0.1609 - val_ciou_metric: 0.8401 - lr: 0.0010\n",
      "Epoch 19/500\n",
      "126/126 [==============================] - 27s 214ms/step - loss: 0.1335 - ciou_metric: 0.8663 - val_loss: 0.1534 - val_ciou_metric: 0.8480 - lr: 0.0010\n",
      "Epoch 20/500\n",
      "126/126 [==============================] - 27s 215ms/step - loss: 0.1271 - ciou_metric: 0.8722 - val_loss: 0.1563 - val_ciou_metric: 0.8450 - lr: 0.0010\n",
      "Epoch 21/500\n",
      "126/126 [==============================] - ETA: 0s - loss: 0.1303 - ciou_metric: 0.8695INFO:tensorflow:Assets written to: models\\roi_detection_iou_8_21\\assets\n"
     ]
    },
    {
     "name": "stderr",
     "output_type": "stream",
     "text": [
      "INFO:tensorflow:Assets written to: models\\roi_detection_iou_8_21\\assets\n"
     ]
    },
    {
     "name": "stdout",
     "output_type": "stream",
     "text": [
      "126/126 [==============================] - 28s 224ms/step - loss: 0.1303 - ciou_metric: 0.8695 - val_loss: 0.1497 - val_ciou_metric: 0.8518 - lr: 0.0010\n",
      "Epoch 22/500\n",
      "125/126 [============================>.] - ETA: 0s - loss: 0.1242 - ciou_metric: 0.8758INFO:tensorflow:Assets written to: models\\roi_detection_iou_8_22\\assets\n"
     ]
    },
    {
     "name": "stderr",
     "output_type": "stream",
     "text": [
      "INFO:tensorflow:Assets written to: models\\roi_detection_iou_8_22\\assets\n"
     ]
    },
    {
     "name": "stdout",
     "output_type": "stream",
     "text": [
      "126/126 [==============================] - 28s 226ms/step - loss: 0.1243 - ciou_metric: 0.8755 - val_loss: 0.1485 - val_ciou_metric: 0.8528 - lr: 0.0010\n",
      "Epoch 23/500\n",
      "126/126 [==============================] - 27s 214ms/step - loss: 0.1229 - ciou_metric: 0.8772 - val_loss: 0.1545 - val_ciou_metric: 0.8470 - lr: 0.0010\n",
      "Epoch 24/500\n",
      "126/126 [==============================] - 27s 214ms/step - loss: 0.1191 - ciou_metric: 0.8809 - val_loss: 0.1499 - val_ciou_metric: 0.8513 - lr: 0.0010\n",
      "Epoch 25/500\n",
      "126/126 [==============================] - ETA: 0s - loss: 0.1169 - ciou_metric: 0.8831INFO:tensorflow:Assets written to: models\\roi_detection_iou_8_25\\assets\n"
     ]
    },
    {
     "name": "stderr",
     "output_type": "stream",
     "text": [
      "INFO:tensorflow:Assets written to: models\\roi_detection_iou_8_25\\assets\n"
     ]
    },
    {
     "name": "stdout",
     "output_type": "stream",
     "text": [
      "126/126 [==============================] - 29s 227ms/step - loss: 0.1169 - ciou_metric: 0.8831 - val_loss: 0.1477 - val_ciou_metric: 0.8535 - lr: 0.0010\n",
      "Epoch 26/500\n",
      "126/126 [==============================] - 27s 214ms/step - loss: 0.1160 - ciou_metric: 0.8841 - val_loss: 0.1516 - val_ciou_metric: 0.8499 - lr: 0.0010\n",
      "Epoch 27/500\n",
      "126/126 [==============================] - ETA: 0s - loss: 0.1156 - ciou_metric: 0.8843INFO:tensorflow:Assets written to: models\\roi_detection_iou_8_27\\assets\n"
     ]
    },
    {
     "name": "stderr",
     "output_type": "stream",
     "text": [
      "INFO:tensorflow:Assets written to: models\\roi_detection_iou_8_27\\assets\n"
     ]
    },
    {
     "name": "stdout",
     "output_type": "stream",
     "text": [
      "126/126 [==============================] - 29s 228ms/step - loss: 0.1156 - ciou_metric: 0.8843 - val_loss: 0.1461 - val_ciou_metric: 0.8554 - lr: 0.0010\n",
      "Epoch 28/500\n",
      "126/126 [==============================] - 27s 213ms/step - loss: 0.1113 - ciou_metric: 0.8886 - val_loss: 0.1464 - val_ciou_metric: 0.8548 - lr: 0.0010\n",
      "Epoch 29/500\n",
      "126/126 [==============================] - 27s 213ms/step - loss: 0.1088 - ciou_metric: 0.8911 - val_loss: 0.1560 - val_ciou_metric: 0.8451 - lr: 0.0010\n",
      "Epoch 30/500\n",
      "126/126 [==============================] - 27s 214ms/step - loss: 0.1084 - ciou_metric: 0.8917 - val_loss: 0.1509 - val_ciou_metric: 0.8505 - lr: 0.0010\n",
      "Epoch 31/500\n",
      "126/126 [==============================] - ETA: 0s - loss: 0.1058 - ciou_metric: 0.8941INFO:tensorflow:Assets written to: models\\roi_detection_iou_8_31\\assets\n"
     ]
    },
    {
     "name": "stderr",
     "output_type": "stream",
     "text": [
      "INFO:tensorflow:Assets written to: models\\roi_detection_iou_8_31\\assets\n"
     ]
    },
    {
     "name": "stdout",
     "output_type": "stream",
     "text": [
      "126/126 [==============================] - 28s 224ms/step - loss: 0.1058 - ciou_metric: 0.8941 - val_loss: 0.1436 - val_ciou_metric: 0.8577 - lr: 0.0010\n",
      "Epoch 32/500\n",
      "126/126 [==============================] - 27s 213ms/step - loss: 0.1021 - ciou_metric: 0.8979 - val_loss: 0.1547 - val_ciou_metric: 0.8466 - lr: 0.0010\n",
      "Epoch 33/500\n",
      "126/126 [==============================] - 27s 215ms/step - loss: 0.1035 - ciou_metric: 0.8965 - val_loss: 0.1475 - val_ciou_metric: 0.8536 - lr: 0.0010\n",
      "Epoch 34/500\n",
      "126/126 [==============================] - 27s 213ms/step - loss: 0.0982 - ciou_metric: 0.9011 - val_loss: 0.1479 - val_ciou_metric: 0.8532 - lr: 0.0010\n",
      "Epoch 35/500\n",
      "126/126 [==============================] - 27s 213ms/step - loss: 0.0977 - ciou_metric: 0.9021 - val_loss: 0.1566 - val_ciou_metric: 0.8445 - lr: 0.0010\n",
      "Epoch 36/500\n",
      "125/126 [============================>.] - ETA: 0s - loss: 0.0957 - ciou_metric: 0.9043\n",
      "Epoch 36: ReduceLROnPlateau reducing learning rate to 0.0009500000451225787.\n",
      "126/126 [==============================] - 27s 213ms/step - loss: 0.0957 - ciou_metric: 0.9040 - val_loss: 0.1469 - val_ciou_metric: 0.8544 - lr: 0.0010\n",
      "Epoch 37/500\n",
      "126/126 [==============================] - 27s 213ms/step - loss: 0.0917 - ciou_metric: 0.9083 - val_loss: 0.1449 - val_ciou_metric: 0.8563 - lr: 9.5000e-04\n",
      "Epoch 38/500\n",
      "126/126 [==============================] - 27s 213ms/step - loss: 0.0940 - ciou_metric: 0.9060 - val_loss: 0.1488 - val_ciou_metric: 0.8527 - lr: 9.5000e-04\n",
      "Epoch 39/500\n",
      "126/126 [==============================] - 27s 215ms/step - loss: 0.0892 - ciou_metric: 0.9103 - val_loss: 0.1505 - val_ciou_metric: 0.8507 - lr: 9.5000e-04\n",
      "Epoch 40/500\n",
      "126/126 [==============================] - 27s 213ms/step - loss: 0.0874 - ciou_metric: 0.9127 - val_loss: 0.1475 - val_ciou_metric: 0.8537 - lr: 9.5000e-04\n",
      "Epoch 41/500\n",
      "126/126 [==============================] - ETA: 0s - loss: 0.0874 - ciou_metric: 0.9126\n",
      "Epoch 41: ReduceLROnPlateau reducing learning rate to 0.0009025000152178108.\n",
      "126/126 [==============================] - 27s 214ms/step - loss: 0.0874 - ciou_metric: 0.9126 - val_loss: 0.1517 - val_ciou_metric: 0.8497 - lr: 9.5000e-04\n",
      "Epoch 42/500\n",
      "126/126 [==============================] - 27s 215ms/step - loss: 0.0831 - ciou_metric: 0.9170 - val_loss: 0.1456 - val_ciou_metric: 0.8556 - lr: 9.0250e-04\n",
      "Epoch 43/500\n",
      "126/126 [==============================] - 27s 214ms/step - loss: 0.0810 - ciou_metric: 0.9190 - val_loss: 0.1459 - val_ciou_metric: 0.8554 - lr: 9.0250e-04\n",
      "Epoch 44/500\n",
      "126/126 [==============================] - 27s 214ms/step - loss: 0.0824 - ciou_metric: 0.9177 - val_loss: 0.1482 - val_ciou_metric: 0.8533 - lr: 9.0250e-04\n",
      "Epoch 45/500\n",
      "126/126 [==============================] - 27s 213ms/step - loss: 0.0802 - ciou_metric: 0.9199 - val_loss: 0.1451 - val_ciou_metric: 0.8564 - lr: 9.0250e-04\n",
      "Epoch 46/500\n",
      "126/126 [==============================] - ETA: 0s - loss: 0.0782 - ciou_metric: 0.9218\n",
      "Epoch 46: ReduceLROnPlateau reducing learning rate to 0.0008573750033974647.\n",
      "126/126 [==============================] - 27s 214ms/step - loss: 0.0782 - ciou_metric: 0.9218 - val_loss: 0.1515 - val_ciou_metric: 0.8499 - lr: 9.0250e-04\n",
      "Epoch 47/500\n",
      "126/126 [==============================] - 27s 213ms/step - loss: 0.0792 - ciou_metric: 0.9206 - val_loss: 0.1495 - val_ciou_metric: 0.8517 - lr: 8.5737e-04\n",
      "Epoch 48/500\n",
      "126/126 [==============================] - 27s 213ms/step - loss: 0.0778 - ciou_metric: 0.9223 - val_loss: 0.1474 - val_ciou_metric: 0.8539 - lr: 8.5737e-04\n",
      "Epoch 49/500\n",
      "126/126 [==============================] - 27s 213ms/step - loss: 0.0752 - ciou_metric: 0.9249 - val_loss: 0.1438 - val_ciou_metric: 0.8577 - lr: 8.5737e-04\n",
      "Epoch 50/500\n",
      "126/126 [==============================] - 27s 213ms/step - loss: 0.0756 - ciou_metric: 0.9239 - val_loss: 0.1495 - val_ciou_metric: 0.8520 - lr: 8.5737e-04\n",
      "Epoch 51/500\n",
      "126/126 [==============================] - ETA: 0s - loss: 0.0717 - ciou_metric: 0.9284\n",
      "Epoch 51: ReduceLROnPlateau reducing learning rate to 0.0008145062311086804.\n",
      "126/126 [==============================] - 27s 215ms/step - loss: 0.0717 - ciou_metric: 0.9284 - val_loss: 0.1447 - val_ciou_metric: 0.8568 - lr: 8.5737e-04\n"
     ]
    }
   ],
   "source": [
    "history = run_model(get_baseline_model, f'roi_detection_iou_8', ciou_loss, ciou_metric)"
   ],
   "metadata": {
    "collapsed": false
   }
  },
  {
   "cell_type": "code",
   "execution_count": null,
   "outputs": [],
   "source": [
    "def plot_history(hist) -> None:\n",
    "    # Loss\n",
    "    plt.figure(figsize=(12, 6))\n",
    "    plt.subplot(1, 2, 1)\n",
    "    plt.plot(hist.history['loss'], label='Train Loss')\n",
    "    plt.plot(hist.history['val_loss'], label='Validation Loss')\n",
    "    plt.title('Loss Evolution')\n",
    "    plt.xlabel('Epoch')\n",
    "    plt.ylabel('Loss')\n",
    "    plt.grid(True)\n",
    "    plt.legend()\n",
    "    # CIoU vals\n",
    "    plt.subplot(1, 2, 2)\n",
    "    plt.plot(hist.history['ciou_metric'], label='Train CIoU metric')\n",
    "    plt.plot(hist.history['val_ciou_metric'], label='Validation CIoU metric')\n",
    "    plt.title('Metric Evolution')\n",
    "    plt.xlabel('Epoch')\n",
    "    plt.ylabel('Metric')\n",
    "    plt.grid(True)\n",
    "    plt.legend()\n",
    "\n",
    "    plt.tight_layout()\n",
    "    plt.show()"
   ],
   "metadata": {
    "collapsed": false,
    "pycharm": {
     "is_executing": true
    }
   }
  },
  {
   "cell_type": "code",
   "execution_count": 10,
   "outputs": [
    {
     "data": {
      "text/plain": "<Figure size 1200x600 with 2 Axes>",
      "image/png": "[encoded data removed]"
     },
     "metadata": {},
     "output_type": "display_data"
    }
   ],
   "source": [
    "plot_history(history)"
   ],
   "metadata": {
    "collapsed": false
   }
  },
  {
   "cell_type": "code",
   "execution_count": null,
   "outputs": [],
   "source": [
    "def get_deeper_model(loss: Callable, metric: Callable) -> keras.Model:\n",
    "    _input = keras.layers.Input(shape=(SMALLER_HEIGHT, SMALLER_WIDTH, 3))\n",
    "\n",
    "    conv1 = keras.layers.Conv2D(16, 3, padding='same', activation='relu')(_input)\n",
    "    conv1 = keras.layers.MaxPooling2D()(conv1)\n",
    "\n",
    "    conv2 = keras.layers.Conv2D(16, 5, padding='same', activation='relu')(_input)\n",
    "    conv2 = keras.layers.MaxPooling2D()(conv2)\n",
    "\n",
    "    conv3 = keras.layers.Conv2D(16, 7, padding='same', activation='relu')(_input)\n",
    "    conv3 = keras.layers.MaxPooling2D()(conv3)\n",
    "\n",
    "    merged = keras.layers.concatenate([conv1, conv2, conv3])\n",
    "\n",
    "    conv_module = keras.layers.Conv2D(32, 3, padding='same', activation='relu')(merged)\n",
    "    conv_module = keras.layers.MaxPooling2D()(conv_module)\n",
    "    conv_module = keras.layers.Dropout(.2)(conv_module)\n",
    "\n",
    "    conv_module = keras.layers.Conv2D(64, 3, padding='same', activation='relu')(conv_module)\n",
    "    conv_module = keras.layers.MaxPooling2D()(conv_module)\n",
    "    conv_module = keras.layers.Dropout(.2)(conv_module)\n",
    "\n",
    "    conv_module = keras.layers.Conv2D(128, 3, padding='same', activation='relu')(conv_module)\n",
    "    conv_module = keras.layers.MaxPooling2D()(conv_module)\n",
    "    conv_module = keras.layers.Dropout(.2)(conv_module)\n",
    "\n",
    "    flat = keras.layers.Flatten()(conv_module)\n",
    "\n",
    "    locator_module = keras.layers.Dense(256, activation='relu')(flat)\n",
    "    locator_module = keras.layers.Dropout(.2)(locator_module)\n",
    "    locator_module = keras.layers.Dense(256, activation='relu')(locator_module)\n",
    "    locator_module = keras.layers.Dense(4, activation='sigmoid')(locator_module)\n",
    "\n",
    "    model = keras.Model(_input, locator_module)\n",
    "\n",
    "    model.compile(optimizer='adam', loss=loss, metrics=[metric])\n",
    "\n",
    "    print(model.summary())\n",
    "\n",
    "    return model"
   ],
   "metadata": {
    "collapsed": false,
    "pycharm": {
     "is_executing": true
    }
   }
  },
  {
   "cell_type": "code",
   "execution_count": null,
   "outputs": [],
   "source": [
    "history2 = run_model(get_deeper_model, f'roi_detection_iou_9', ciou_loss, ciou_metric)"
   ],
   "metadata": {
    "collapsed": false,
    "pycharm": {
     "is_executing": true
    }
   }
  },
  {
   "cell_type": "code",
   "execution_count": null,
   "outputs": [],
   "source": [],
   "metadata": {
    "collapsed": false
   }
  }
 ],
 "metadata": {
  "kernelspec": {
   "display_name": "Python 3",
   "language": "python",
   "name": "python3"
  },
  "language_info": {
   "codemirror_mode": {
    "name": "ipython",
    "version": 2
   },
   "file_extension": ".py",
   "mimetype": "text/x-python",
   "name": "python",
   "nbconvert_exporter": "python",
   "pygments_lexer": "ipython2",
   "version": "2.7.6"
  }
 },
 "nbformat": 4,
 "nbformat_minor": 0
}
