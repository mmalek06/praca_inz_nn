{
 "cells": [
  {
   "cell_type": "markdown",
   "source": [
    "<h3>This notebook is a copy of the roi_detection notebook, however the NN here learns on augmented images.</h3>\n",
    "\n",
    "Normally some of the augmentation could have been done on the fly, but for ROI detection NN I decided to go with the statically generated artifacts. It improved and stabilized the network's behavior slightly, so the model in this notebook is the final one in the family of custom cut ones."
   ],
   "metadata": {
    "collapsed": false
   }
  },
  {
   "cell_type": "code",
   "execution_count": 1,
   "outputs": [],
   "source": [
    "import os\n",
    "import absl.logging\n",
    "\n",
    "from typing import Callable\n",
    "from tensorflow import keras\n",
    "\n",
    "from functions.ciou import ciou_loss, ciou_metric\n",
    "from functions.loading_data import load_and_preprocess_data\n",
    "from functions.loading_data import SMALLER_HEIGHT, SMALLER_WIDTH\n",
    "from functions.plotting import plot_history\n",
    "\n",
    "absl.logging.set_verbosity(absl.logging.ERROR)"
   ],
   "metadata": {
    "collapsed": false
   }
  },
  {
   "cell_type": "code",
   "execution_count": 2,
   "outputs": [],
   "source": [
    "get_names = lambda root_path: [\n",
    "    file_name.split('.')[0]\n",
    "    for dir_path, _, file_names in os.walk(root_path)\n",
    "    for file_name in file_names\n",
    "]\n",
    "get_paths = lambda path: [f'{os.path.join(root, file)}' for root, dirs, files in os.walk(path) for file in files]\n",
    "base_dir = os.path.join('..', 'data', 'images_original_inception_resnet_v2_200x150_splitted_with_augmentation_10p')\n",
    "train_dir = os.path.join(base_dir, 'training')\n",
    "valid_dir = os.path.join(base_dir, 'validation')"
   ],
   "metadata": {
    "collapsed": false
   }
  },
  {
   "cell_type": "code",
   "execution_count": 5,
   "outputs": [],
   "source": [
    "train_ds = load_and_preprocess_data(os.path.join('..', 'data', 'training_boxes.csv'), train_dir)\n",
    "valid_ds = load_and_preprocess_data(os.path.join('..', 'data', 'validation_boxes.csv'), valid_dir)"
   ],
   "metadata": {
    "collapsed": false
   }
  },
  {
   "cell_type": "code",
   "execution_count": 8,
   "outputs": [],
   "source": [
    "def run_multi_attentive_model(\n",
    "        model_factory: Callable,\n",
    "        model_name: str,\n",
    "        loss: Callable,\n",
    "        metric: Callable,\n",
    "        reduction_patience=5,\n",
    "        monitor='val_root_ciou_metric'):\n",
    "    MIN_DELTA = .001\n",
    "    early_stopping = keras.callbacks.EarlyStopping(\n",
    "        monitor=monitor,\n",
    "        mode='max',\n",
    "        patience=10,\n",
    "        min_delta=MIN_DELTA)\n",
    "    reduce_lr = keras.callbacks.ReduceLROnPlateau(\n",
    "        monitor=monitor,\n",
    "        mode='max',\n",
    "        factor=0.95,\n",
    "        min_delta=MIN_DELTA,\n",
    "        patience=reduction_patience,\n",
    "        min_lr=0.0005,\n",
    "        verbose=1)\n",
    "    model_checkpoint = keras.callbacks.ModelCheckpoint(\n",
    "        filepath='models/' + model_name + '_{epoch}',\n",
    "        save_best_only=True)\n",
    "    tensor_board = keras.callbacks.TensorBoard(log_dir=f'tensor_logs/{model_name}')\n",
    "    model = model_factory(loss, metric)\n",
    "\n",
    "    return model.fit(\n",
    "        train_ds,\n",
    "        validation_data=valid_ds,\n",
    "        epochs=500,\n",
    "        callbacks=[reduce_lr, model_checkpoint, tensor_board, early_stopping])"
   ],
   "metadata": {
    "collapsed": false
   }
  },
  {
   "cell_type": "code",
   "execution_count": 9,
   "outputs": [],
   "source": [
    "def get_attentive_model2(loss: Callable, metric: Callable) -> keras.Model:\n",
    "    def get_branch(_input: keras.layers.Layer, kernel_size: int) -> keras.layers.Layer:\n",
    "        conv = keras.layers.Conv2D(64, kernel_size, padding='same', strides=2, activation='relu')(_input)\n",
    "        conv = keras.layers.MaxPooling2D()(conv)\n",
    "\n",
    "        return conv\n",
    "\n",
    "    def get_inner_conv_module(prev: keras.layers.Layer, filters: int) -> keras.layers.Layer:\n",
    "        conv_module = keras.layers.Conv2D(filters, 3, padding='same', activation='relu')(prev)\n",
    "        conv_module = keras.layers.MaxPooling2D()(conv_module)\n",
    "        conv_module = keras.layers.Dropout(.4)(conv_module)\n",
    "\n",
    "        return conv_module\n",
    "\n",
    "    def get_outer_conv_module(prev: keras.layers.Layer) -> keras.layers.Layer:\n",
    "        conv_module = get_inner_conv_module(prev, 64)\n",
    "        conv_module = get_inner_conv_module(conv_module, 128)\n",
    "        conv_module = get_inner_conv_module(conv_module, 256)\n",
    "\n",
    "        return conv_module\n",
    "\n",
    "    def get_attention_module(prev: keras.layers.Layer) -> keras.layers.Layer:\n",
    "        gap_layer = keras.layers.GlobalAveragePooling2D()(prev)\n",
    "        gap_layer_res = keras.layers.Reshape((1, 1, 256))(gap_layer)\n",
    "        dense = keras.layers.Dense(256, activation='relu')(gap_layer_res)\n",
    "        dense = keras.layers.Dense(256, activation='softmax')(dense)\n",
    "        mul_layer = keras.layers.Multiply()([prev, dense])\n",
    "\n",
    "        return mul_layer\n",
    "\n",
    "    def get_locator_module(prev: keras.layers.Layer) -> keras.layers.Layer:\n",
    "        locator_module = keras.layers.Flatten()(prev)\n",
    "        locator_module = keras.layers.Dense(256, activation='relu')(locator_module)\n",
    "        locator_module = keras.layers.Dense(128, activation='relu')(locator_module)\n",
    "\n",
    "        return locator_module\n",
    "\n",
    "    _input = keras.layers.Input(shape=(SMALLER_HEIGHT, SMALLER_WIDTH, 3))\n",
    "    branch1 = get_branch(_input, 3)\n",
    "    branch2 = get_branch(_input, 5)\n",
    "    branch3 = get_branch(_input, 7)\n",
    "    merged_branches = keras.layers.concatenate([branch1, branch2, branch3])\n",
    "    conv_module = get_outer_conv_module(merged_branches)\n",
    "    attention_module1 = get_attention_module(conv_module)\n",
    "    attention_module2 = get_attention_module(conv_module)\n",
    "    merged_attentions = keras.layers.concatenate([attention_module1, attention_module2])\n",
    "    locator_module = get_locator_module(merged_attentions)\n",
    "    output = keras.layers.Dense(4, activation='sigmoid', name='root')(locator_module)\n",
    "    gap_attention1 = keras.layers.GlobalAveragePooling2D()(attention_module1)\n",
    "    gap_attention2 = keras.layers.GlobalAveragePooling2D()(attention_module2)\n",
    "    aux_output = keras.layers.Dot(axes=1, normalize=True, name='dot')([gap_attention1, gap_attention2])\n",
    "    model = keras.Model(_input, outputs=[output, aux_output])\n",
    "\n",
    "    model.compile(\n",
    "        optimizer='adam',\n",
    "        loss={\n",
    "            'root': loss,\n",
    "            'dot': keras.losses.mean_squared_error,\n",
    "        },\n",
    "        loss_weights={'root': 1.0, 'dot': 0.1},\n",
    "        metrics={\n",
    "            'root': metric,\n",
    "            'dot': keras.metrics.mean_squared_error\n",
    "        })\n",
    "\n",
    "    print(model.summary())\n",
    "\n",
    "    return model"
   ],
   "metadata": {
    "collapsed": false
   }
  },
  {
   "cell_type": "code",
   "execution_count": null,
   "outputs": [],
   "source": [
    "history1 = run_multi_attentive_model(get_attentive_model2, f'roi_detection_augmmented_iou_1', ciou_loss, ciou_metric, 20)"
   ],
   "metadata": {
    "collapsed": false,
    "pycharm": {
     "is_executing": true
    }
   }
  },
  {
   "cell_type": "code",
   "execution_count": 12,
   "outputs": [],
   "source": [
    "plot_history(history1, metric_key='root_ciou_metric', val_metric_key='val_root_ciou_metric')"
   ],
   "metadata": {
    "collapsed": false
   }
  }
 ],
 "metadata": {
  "kernelspec": {
   "display_name": "Python 3",
   "language": "python",
   "name": "python3"
  },
  "language_info": {
   "codemirror_mode": {
    "name": "ipython",
    "version": 2
   },
   "file_extension": ".py",
   "mimetype": "text/x-python",
   "name": "python",
   "nbconvert_exporter": "python",
   "pygments_lexer": "ipython2",
   "version": "2.7.6"
  }
 },
 "nbformat": 4,
 "nbformat_minor": 0
}
