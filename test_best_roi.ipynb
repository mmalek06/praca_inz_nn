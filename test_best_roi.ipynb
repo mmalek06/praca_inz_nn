{
 "cells": [
  {
   "cell_type": "code",
   "execution_count": 21,
   "metadata": {
    "collapsed": true
   },
   "outputs": [],
   "source": [
    "import os\n",
    "import absl.logging\n",
    "\n",
    "import PIL.Image\n",
    "import numpy as np\n",
    "\n",
    "from tensorflow import keras\n",
    "\n",
    "from functions.ciou import ciou_loss, ciou_metric\n",
    "from functions.loading_data import SMALLER_HEIGHT, SMALLER_WIDTH\n",
    "from functions.drawing import draw_rectangle\n",
    "\n",
    "absl.logging.set_verbosity(absl.logging.ERROR)"
   ]
  },
  {
   "cell_type": "code",
   "execution_count": 15,
   "outputs": [],
   "source": [
    "best_name = 'roi_detection_iou_26_65'\n",
    "best_path = os.path.join('best_performing_models', best_name)\n",
    "best_model = keras.models.load_model(\n",
    "    best_path,\n",
    "    custom_objects={\n",
    "        'ciou_metric': ciou_metric,\n",
    "        'ciou_loss': ciou_loss\n",
    "    })"
   ],
   "metadata": {
    "collapsed": false
   }
  },
  {
   "cell_type": "code",
   "execution_count": 16,
   "outputs": [],
   "source": [
    "get_names = lambda root_path: [\n",
    "    file_name.split('.')[0]\n",
    "    for dir_path, _, file_names in os.walk(root_path)\n",
    "    for file_name in file_names\n",
    "]\n",
    "get_paths = lambda path: [f'{os.path.join(root, file)}' for root, dirs, files in os.walk(path) for file in files]\n",
    "base_dir = os.path.join('..', 'data', 'images_original_inception_resnet_v2_200x150_splitted')\n",
    "valid_dir = os.path.join(base_dir, 'validation')"
   ],
   "metadata": {
    "collapsed": false
   }
  },
  {
   "cell_type": "code",
   "execution_count": 22,
   "outputs": [],
   "source": [
    "def get_images_array(paths: list[str]) -> np.ndarray:\n",
    "    rows = []\n",
    "    rescale = keras.layers.Rescaling(1./255)\n",
    "\n",
    "    for path in paths:\n",
    "        with PIL.Image.open(path) as image:\n",
    "            image_array = np.asarray(image)\n",
    "            rescaled_image = rescale(image_array)\n",
    "            rows.append(rescaled_image)\n",
    "\n",
    "    return np.array(rows)\n",
    "\n",
    "\n",
    "def get_name(path: str) -> str:\n",
    "    return '_'.join(\n",
    "        path\n",
    "            .split(os.sep)[-1]\n",
    "            .split('.')[-2])\n",
    "\n",
    "\n",
    "valid_paths = get_paths(valid_dir)\n",
    "X_valid = get_images_array(valid_paths)"
   ],
   "metadata": {
    "collapsed": false
   }
  },
  {
   "cell_type": "code",
   "execution_count": 23,
   "outputs": [
    {
     "name": "stdout",
     "output_type": "stream",
     "text": [
      "63/63 [==============================] - 2s 23ms/step\n"
     ]
    }
   ],
   "source": [
    "ys_valid = best_model.predict(X_valid)[0]\n",
    "ys_valid[:, [0, 2]] *= SMALLER_HEIGHT\n",
    "ys_valid[:, [1, 3]] *= SMALLER_WIDTH"
   ],
   "metadata": {
    "collapsed": false
   }
  },
  {
   "cell_type": "code",
   "execution_count": 26,
   "outputs": [],
   "source": [
    "base_test_path = os.path.join('..', 'data', 'tests', best_name)\n",
    "\n",
    "for cnt in range(len(valid_paths)):\n",
    "    path = valid_paths[cnt]\n",
    "    name = get_name(path)\n",
    "    new_path = os.path.join(base_test_path, f'{name}.jpg')\n",
    "    coords = ys_valid[cnt]\n",
    "    top = coords[0]\n",
    "    right = coords[1]\n",
    "    bottom = coords[2]\n",
    "    left = coords[3]\n",
    "\n",
    "    with PIL.Image.open(path).convert('RGB').convert('L') as img:\n",
    "        draw_rectangle(img, (left, top, right, bottom), new_path)"
   ],
   "metadata": {
    "collapsed": false
   }
  },
  {
   "cell_type": "code",
   "execution_count": null,
   "outputs": [],
   "source": [],
   "metadata": {
    "collapsed": false
   }
  }
 ],
 "metadata": {
  "kernelspec": {
   "display_name": "Python 3",
   "language": "python",
   "name": "python3"
  },
  "language_info": {
   "codemirror_mode": {
    "name": "ipython",
    "version": 2
   },
   "file_extension": ".py",
   "mimetype": "text/x-python",
   "name": "python",
   "nbconvert_exporter": "python",
   "pygments_lexer": "ipython2",
   "version": "2.7.6"
  }
 },
 "nbformat": 4,
 "nbformat_minor": 0
}
